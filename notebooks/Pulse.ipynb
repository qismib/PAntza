{
 "cells": [
  {
   "cell_type": "markdown",
   "id": "ce62bf05-6545-4696-a2a2-53b7990a9a1b",
   "metadata": {},
   "source": [
    "Calibrating Qubits"
   ]
  },
  {
   "cell_type": "code",
   "execution_count": null,
   "id": "1aa87b5d-5dfa-425e-8df0-a539f95fde73",
   "metadata": {},
   "outputs": [],
   "source": [
    "import numpy as np\n",
    "from qiskit import IBMQ\n",
    "IBMQ.load_account()\n",
    "provider = IBMQ.get_provider(hub='ibm-q')\n",
    "provider.backends()"
   ]
  },
  {
   "cell_type": "code",
   "execution_count": null,
   "id": "2af2914f-c7ec-4e1e-8701-2457f657021d",
   "metadata": {},
   "outputs": [],
   "source": [
    "backend = provider.get_backend('ibm_kyoto')"
   ]
  },
  {
   "cell_type": "code",
   "execution_count": null,
   "id": "3f55d89d-8632-4d7f-bff6-179f856953db",
   "metadata": {},
   "outputs": [],
   "source": [
    "backend_config = backend.configuration()"
   ]
  },
  {
   "cell_type": "code",
   "execution_count": null,
   "id": "96771690-8c9c-41f0-b82b-d454834da9a4",
   "metadata": {},
   "outputs": [],
   "source": [
    "backend.configuration().timing_constraints\n"
   ]
  },
  {
   "cell_type": "code",
   "execution_count": null,
   "id": "30cef5da-4d48-428c-98fe-4382b5f80866",
   "metadata": {},
   "outputs": [],
   "source": [
    "acquire_alignment = backend.configuration().timing_constraints['acquire_alignment']\n",
    "granularity = backend.configuration().timing_constraints['granularity']\n",
    "pulse_alignment = backend.configuration().timing_constraints['pulse_alignment']\n"
   ]
  },
  {
   "cell_type": "markdown",
   "id": "13afc4ae-e82e-4f15-8a87-a97a9610b04e",
   "metadata": {},
   "source": [
    "We begin by searching for the qubit frequency. The qubit frequency is the difference in energy between the ground and excited states, which we label the |0⟩ and |1⟩ states, respectively. This frequency will be crucial for creating pulses which enact particular quantum operators on the qubit"
   ]
  },
  {
   "cell_type": "markdown",
   "id": "57ba70e8-4b97-4e2e-9b56-8a2b8c90c406",
   "metadata": {},
   "source": [
    "With superconducting qubits, higher energy levels are also available, but we fabricate the systems to be anharmonic so that we can control which transition we are exciting. That way, we are able to isolate two energy levels and treat each qubit as a basic two-level system, ignoring higher energy states."
   ]
  },
  {
   "cell_type": "markdown",
   "id": "a490ba55-db60-42c1-9d37-b7bb3ee807f1",
   "metadata": {},
   "source": [
    "In a typical lab setting, the qubit frequency can be found by sweeping a range of frequencies and looking for signs of absorption using a tool known as a Network Analyzer. This measurement gives a rough estimate of the qubit frequency."
   ]
  },
  {
   "cell_type": "markdown",
   "id": "0db4a2c0-ba6a-49b5-8637-5816368fb488",
   "metadata": {},
   "source": [
    "First, we define the frequency range that will be swept in search of the qubit. Since this can be arbitrarily broad, we restrict ourselves to a window of 40 MHz around the estimated qubit frequency in backend_defaults. We step the frequency in units of 1 MHz."
   ]
  },
  {
   "cell_type": "code",
   "execution_count": null,
   "id": "933f3351-57df-4947-9741-0a69443f36d5",
   "metadata": {},
   "outputs": [],
   "source": [
    "backend_defaults = backend.defaults()\n"
   ]
  },
  {
   "cell_type": "markdown",
   "id": "dc753ff6-2732-4d7f-b728-0a6e155dd79e",
   "metadata": {},
   "source": [
    "The backend defaults provide a starting point for how to use the backend. It contains estimates for qubit frequencies and default programs to enact basic quantum operators."
   ]
  },
  {
   "cell_type": "code",
   "execution_count": null,
   "id": "ab90937e-3b25-42b9-95c2-02eed111d6de",
   "metadata": {},
   "outputs": [],
   "source": [
    "# unit conversion factors -> all backend properties returned in SI (Hz, sec, etc.)\n",
    "GHz = 1.0e9 # Gigahertz\n",
    "MHz = 1.0e6 # Megahertz\n",
    "us = 1.0e-6 # Microseconds\n",
    "ns = 1.0e-9 # Nanoseconds\n",
    "\n",
    "# We will find the qubit frequency for the following qubit.\n",
    "qubit = 0\n",
    "\n",
    "# The sweep will be centered around the estimated qubit frequency.\n",
    "center_frequency_Hz = backend_defaults.qubit_freq_est[qubit]        # The default frequency is given in Hz\n",
    "                                                                    # warning: this will change in a future release\n",
    "print(f\"Qubit {qubit} has an estimated frequency of {center_frequency_Hz / GHz} GHz.\")\n",
    "\n",
    "# scale factor to remove factors of 10 from the data\n",
    "scale_factor = 1e-7\n",
    "\n",
    "# We will sweep 40 MHz around the estimated frequency\n",
    "frequency_span_Hz = 40 * MHz\n",
    "# in steps of 1 MHz.\n",
    "frequency_step_Hz = 1 * MHz\n",
    "\n",
    "# We will sweep 20 MHz above and 20 MHz below the estimated frequency\n",
    "frequency_min = center_frequency_Hz - frequency_span_Hz / 2\n",
    "frequency_max = center_frequency_Hz + frequency_span_Hz / 2\n",
    "# Construct an np array of the frequencies for our experiment\n",
    "frequencies_GHz = np.arange(frequency_min / GHz, \n",
    "                            frequency_max / GHz, \n",
    "                            frequency_step_Hz / GHz)\n",
    "\n",
    "print(f\"The sweep will go from {frequency_min / GHz} GHz to {frequency_max / GHz} GHz \\\n",
    "in steps of {frequency_step_Hz / MHz} MHz.\")\n"
   ]
  },
  {
   "cell_type": "markdown",
   "id": "47971ba5-68d3-4420-9803-671537204eea",
   "metadata": {},
   "source": [
    "We will create a pulse schedule by defining this frequency as a parameter using the parameter class. First, we will set the required values duration, sigma, and channel."
   ]
  },
  {
   "cell_type": "markdown",
   "id": "4ce5afc6-d8c3-4eed-b1ed-509b843be330",
   "metadata": {},
   "source": [
    "Then we will set the pulse flow so that the specified pulses are executed sequentially. We will define the pulse frequency, the pulse used in the experiment, and the measurement pulse. Here, the pulse used in the experiment specifies the drive pulse, which is a Gaussian pulse."
   ]
  },
  {
   "cell_type": "markdown",
   "id": "0ac17fb6-8380-4529-81c4-e3da25d224b9",
   "metadata": {},
   "source": [
    "At each frequency, we will send a drive pulse of that frequency to the qubit and measure immediately after the pulse."
   ]
  },
  {
   "cell_type": "code",
   "execution_count": null,
   "id": "04f53057-9849-43dc-851c-726945afb514",
   "metadata": {},
   "outputs": [],
   "source": [
    "def get_closest_multiple_of(value, base_number):\n",
    "    return int(value + base_number/2) - (int(value + base_number/2) % base_number)\n"
   ]
  },
  {
   "cell_type": "markdown",
   "id": "74f7bf65-1699-4f73-885b-319658e939a6",
   "metadata": {},
   "source": [
    "We prepare a function to determine the length of the pulse."
   ]
  },
  {
   "cell_type": "code",
   "execution_count": null,
   "id": "f402e8dc-0f8f-44a7-9b58-0f8749710e98",
   "metadata": {},
   "outputs": [],
   "source": [
    "# samples need to be multiples of 16\n",
    "def get_closest_multiple_of_16(num):\n",
    "    return get_closest_multiple_of(num, granularity)\n"
   ]
  },
  {
   "cell_type": "markdown",
   "id": "d26dc2d9-6c04-4556-b404-8211daf8927c",
   "metadata": {},
   "source": [
    "We prepare a function to adjust the length of the delay."
   ]
  },
  {
   "cell_type": "code",
   "execution_count": null,
   "id": "a5823268-7a02-4ad7-b5f8-642c65d9b960",
   "metadata": {},
   "outputs": [],
   "source": [
    "# Convert seconds to dt\n",
    "def get_dt_from(sec):\n",
    "    return get_closest_multiple_of(sec/dt, lcm)\n"
   ]
  },
  {
   "cell_type": "code",
   "execution_count": null,
   "id": "91cf8e4a-2c3b-4da2-b9dd-3f8fcd37808c",
   "metadata": {},
   "outputs": [],
   "source": [
    "from qiskit import pulse                  # This is where we access all of our Pulse features!\n",
    "from qiskit.circuit import Parameter      # This is Parameter Class for variable parameters.\n",
    "from qiskit.circuit import QuantumCircuit, Gate\n",
    "\n",
    "# Drive pulse parameters (us = microseconds)\n",
    "drive_sigma_sec = 0.015 * us                           # This determines the actual width of the gaussian\n",
    "drive_duration_sec = drive_sigma_sec * 8                # This is a truncating parameter, because gaussians don't have \n",
    "                                                        # a natural finite length\n",
    "drive_amp = 0.05\n",
    "\n",
    "# Create the base schedule\n",
    "# Start with drive pulse acting on the drive channel\n",
    "freq = Parameter('freq')\n",
    "with pulse.build(backend=backend, default_alignment='sequential', name='Frequency sweep') as sweep_sched:\n",
    "    drive_duration = get_closest_multiple_of_16(pulse.seconds_to_samples(drive_duration_sec))\n",
    "    drive_sigma = pulse.seconds_to_samples(drive_sigma_sec)\n",
    "    drive_chan = pulse.drive_channel(qubit)\n",
    "    pulse.set_frequency(freq, drive_chan)\n",
    "    # Drive pulse samples\n",
    "    pulse.play(pulse.Gaussian(duration=drive_duration,\n",
    "                              sigma=drive_sigma,\n",
    "                              amp=drive_amp,\n",
    "                              name='freq_sweep_excitation_pulse'), drive_chan)\n"
   ]
  },
  {
   "cell_type": "code",
   "execution_count": null,
   "id": "5472d25f-c1e5-486b-9cb8-7ea19c4e920a",
   "metadata": {},
   "outputs": [],
   "source": [
    "sweep_gate = Gate(\"sweep\", 1, [freq])\n",
    "\n",
    "qc_sweep = QuantumCircuit(1, 1)\n",
    "\n",
    "qc_sweep.append(sweep_gate, [0])\n",
    "qc_sweep.measure(0, 0)\n",
    "qc_sweep.add_calibration(sweep_gate, (0,), sweep_sched, [freq])\n",
    "\n",
    "# Create the frequency settings for the sweep (MUST BE IN HZ)\n",
    "frequencies_Hz = frequencies_GHz*GHz\n",
    "exp_sweep_circs = [qc_sweep.assign_parameters({freq: f}, inplace=False) for f in frequencies_Hz]\n",
    "\n",
    "qc_sweep.draw()"
   ]
  },
  {
   "cell_type": "code",
   "execution_count": null,
   "id": "fce31ada-e3b8-4aa0-a5a3-832b89ae6a78",
   "metadata": {},
   "outputs": [],
   "source": [
    "from qiskit import schedule\n",
    "\n",
    "sweep_schedule = schedule(exp_sweep_circs[0], backend)\n",
    "sweep_schedule.draw(backend=backend)\n"
   ]
  },
  {
   "cell_type": "markdown",
   "id": "a6ebee93-49cf-4fdc-a871-58aede1be3a6",
   "metadata": {},
   "source": [
    "We request that each schedule (each point in our frequency sweep) is repeated num_shots_per_frequency times in order to get a good estimate of the qubit response."
   ]
  },
  {
   "cell_type": "markdown",
   "id": "26c01e90-f0d0-4710-b476-e674eeb5b208",
   "metadata": {},
   "source": [
    "We also specify measurement settings. meas_level=0 returns raw data (an array of complex values per shot), meas_level=1 returns kerneled data (one complex value per shot), and meas_level=2 returns classified data (a 0 or 1 bit per shot). We choose meas_level=1 to replicate what we would be working with if we were in the lab, and hadn't yet calibrated the discriminator to classify 0s and 1s. We ask for the 'avg' of the results, rather than each shot individually."
   ]
  },
  {
   "cell_type": "code",
   "execution_count": null,
   "id": "1b259dcd-407a-4b1c-83a6-ee220cabf509",
   "metadata": {},
   "outputs": [],
   "source": [
    "from qiskit.tools.monitor import job_monitor\n",
    "num_shots_per_frequency = 10\n",
    "\n",
    "job = backend.run(exp_sweep_circs, \n",
    "                  meas_level=1, \n",
    "                  meas_return='avg', \n",
    "                  shots=num_shots_per_frequency)\n",
    "\n",
    "job_monitor(job)\n"
   ]
  },
  {
   "cell_type": "code",
   "execution_count": null,
   "id": "82f5f75a-a976-4e34-b3db-3a1c1530c122",
   "metadata": {},
   "outputs": [],
   "source": [
    "frequency_sweep_results = job.result(timeout=120) # timeout parameter set to 120 seconds\n"
   ]
  },
  {
   "cell_type": "code",
   "execution_count": null,
   "id": "8712842d-a9fb-4770-991a-c127c8fd2659",
   "metadata": {},
   "outputs": [],
   "source": [
    "import matplotlib.pyplot as plt\n",
    "\n",
    "sweep_values = []\n",
    "for i in range(len(frequency_sweep_results.results)):\n",
    "    # Get the results from the ith experiment\n",
    "    res = frequency_sweep_results.get_memory(i)*scale_factor\n",
    "    # Get the results for `qubit` from this experiment\n",
    "    sweep_values.append(res[qubit])\n",
    "\n",
    "plt.scatter(frequencies_GHz, np.real(sweep_values), marker='x', color='black') # plot real part of sweep values\n",
    "plt.xlim([min(frequencies_GHz), max(frequencies_GHz)])\n",
    "plt.xlabel(\"Frequency [GHz]\")\n",
    "plt.ylabel(\"Measured signal [a.u.]\")\n",
    "plt.show()\n"
   ]
  },
  {
   "cell_type": "markdown",
   "id": "3daa4c0d-2954-42ce-9024-822a88b94cd2",
   "metadata": {},
   "source": [
    "As you can see above, the peak near the center corresponds to the location of the qubit frequency. The signal shows power-broadening, which is a signature that we are able to drive the qubit off-resonance as we get close to the center frequency. To get the value of the peak frequency, we will fit the values to a resonance response curve, which is typically a Lorentzian shape."
   ]
  },
  {
   "cell_type": "code",
   "execution_count": null,
   "id": "13d0b148-18ec-4b9f-a44e-ad669b060718",
   "metadata": {},
   "outputs": [],
   "source": [
    "from scipy.optimize import curve_fit\n",
    "\n",
    "def fit_function(x_values, y_values, function, init_params):\n",
    "    fitparams, conv = curve_fit(function, x_values, y_values, init_params)\n",
    "    y_fit = function(x_values, *fitparams)\n",
    "    \n",
    "    return fitparams, y_fit\n"
   ]
  },
  {
   "cell_type": "code",
   "execution_count": null,
   "id": "34f56eb8-e125-4ce3-9c96-f155aa43b47c",
   "metadata": {},
   "outputs": [],
   "source": [
    "fit_params, y_fit = fit_function(frequencies_GHz,\n",
    "                                 np.real(sweep_values), \n",
    "                                 lambda x, A, q_freq, B, C: (A / np.pi) * (B / ((x - q_freq)**2 + B**2)) + C,\n",
    "                                 [1, 4.975, 1, -2] # initial parameters for curve_fit\n",
    "                                )\n"
   ]
  },
  {
   "cell_type": "code",
   "execution_count": null,
   "id": "2e6da13a-4223-4fa3-8a1b-b10a6d3286bd",
   "metadata": {},
   "outputs": [],
   "source": [
    "plt.scatter(frequencies_GHz, np.real(sweep_values), marker='x', color='black')\n",
    "plt.plot(frequencies_GHz, y_fit)\n",
    "plt.xlim([min(frequencies_GHz), max(frequencies_GHz)])\n",
    "\n",
    "plt.xlabel(\"Frequency [GHz]\")\n",
    "plt.ylabel(\"Measured Signal [a.u.]\")\n",
    "plt.show()\n"
   ]
  },
  {
   "cell_type": "code",
   "execution_count": null,
   "id": "8eacb8bb-54f0-4492-b4d5-7cbe141f9519",
   "metadata": {},
   "outputs": [],
   "source": [
    "A, rough_qubit_frequency, B, C = fit_params\n",
    "rough_qubit_frequency = rough_qubit_frequency*GHz # make sure qubit freq is in Hz\n",
    "print(f\"We've updated our qubit frequency estimate from \"\n",
    "      f\"{round(backend_defaults.qubit_freq_est[qubit] / GHz, 5)} GHz to {round(rough_qubit_frequency/GHz, 5)} GHz.\")\n"
   ]
  }
 ],
 "metadata": {
  "kernelspec": {
   "display_name": "Python 3 (ipykernel)",
   "language": "python",
   "name": "python3"
  },
  "language_info": {
   "codemirror_mode": {
    "name": "ipython",
    "version": 3
   },
   "file_extension": ".py",
   "mimetype": "text/x-python",
   "name": "python",
   "nbconvert_exporter": "python",
   "pygments_lexer": "ipython3",
   "version": "3.10.12"
  }
 },
 "nbformat": 4,
 "nbformat_minor": 5
}
