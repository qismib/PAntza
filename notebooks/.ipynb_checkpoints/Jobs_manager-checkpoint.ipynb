{
 "cells": [
  {
   "cell_type": "code",
   "execution_count": 8,
   "id": "863c140f-488d-4c67-bab7-ab68cf216a63",
   "metadata": {},
   "outputs": [
    {
     "name": "stderr",
     "output_type": "stream",
     "text": [
      "ibmqfactory.load_account:WARNING:2024-04-16 18:09:00,709: Credentials are already in use. The existing account in the session will be replaced.\n",
      "ibmqfactory.load_account:WARNING:2024-04-16 18:09:04,816: Credentials are already in use. The existing account in the session will be replaced.\n"
     ]
    },
    {
     "name": "stdout",
     "output_type": "stream",
     "text": [
      "Backends disponibili:\n",
      "<bound method BackendV1.name of <IBMQBackend('ibm_hanoi') from IBMQ(hub='ibm-q-cern', group='infn', project='qcnphepgw')>>\n",
      "<bound method BackendV1.name of <IBMQBackend('ibm_brisbane') from IBMQ(hub='ibm-q-cern', group='infn', project='qcnphepgw')>>\n",
      "<bound method BackendV1.name of <IBMQBackend('ibm_nazca') from IBMQ(hub='ibm-q-cern', group='infn', project='qcnphepgw')>>\n"
     ]
    }
   ],
   "source": [
    "from qiskit import IBMQ\n",
    "\n",
    "# Carica il tuo account IBM Quantum Experience\n",
    "IBMQ.load_account()\n",
    "\n",
    "# Ottieni il backend desiderato\n",
    "IBMQ.save_account(token='8de2825712e2dfeebc4519583c3b079763d5b1687a1520c4ac99ffa6903ca8f55f5b503d9c35deb43328bdab2d7f3889347f63f9fcaabe219048dbeb0a64c67d',overwrite=True)\n",
    "IBMQ.load_account()\n",
    "provider = IBMQ.get_provider(hub='ibm-q-cern', group='infn', project='qcnphepgw')\n",
    "available_backends = provider.backends()\n",
    "available_backends = provider.backends()\n",
    "print(\"Backends disponibili:\")\n",
    "for backend in available_backends:\n",
    "    print(backend.name)\n",
    "backend = provider.get_backend('ibm_nazca')\n",
    "jobs = backend.jobs()\n",
    "\n",
    "# Cancella i lavori in coda\n",
    "for job in jobs:\n",
    "    print(f\"Job ID: {job.job_id()}\")\n",
    "    print(f\"Job Status: {job.status()}\")\n",
    "\n",
    "    #if job.status() == 'PENDING':\n",
    "        #job.cancel()\n"
   ]
  },
  {
   "cell_type": "code",
   "execution_count": null,
   "id": "96724e04-36c7-46f9-a97e-f5c01513f66d",
   "metadata": {},
   "outputs": [],
   "source": []
  }
 ],
 "metadata": {
  "kernelspec": {
   "display_name": "Python 3 (ipykernel)",
   "language": "python",
   "name": "python3"
  },
  "language_info": {
   "codemirror_mode": {
    "name": "ipython",
    "version": 3
   },
   "file_extension": ".py",
   "mimetype": "text/x-python",
   "name": "python",
   "nbconvert_exporter": "python",
   "pygments_lexer": "ipython3",
   "version": "3.10.12"
  }
 },
 "nbformat": 4,
 "nbformat_minor": 5
}
