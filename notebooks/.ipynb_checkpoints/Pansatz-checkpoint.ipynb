{
 "cells": [
  {
   "cell_type": "code",
   "execution_count": 1,
   "id": "dc949194-f2e5-4ba0-97ba-149e82ee0d87",
   "metadata": {
    "scrolled": true
   },
   "outputs": [
    {
     "name": "stderr",
     "output_type": "stream",
     "text": [
      "/home/riccardo/.venv/lib/python3.10/site-packages/qiskit_dynamics/dispatch/backends/jax.py:34: UserWarning: The functionality in the perturbation module of Qiskit Dynamics requires a JAX version <= 0.4.6, due to a bug in JAX versions > 0.4.6. For versions 0.4.4, 0.4.5, and 0.4.6, using the perturbation module functionality requires setting os.environ['JAX_JIT_PJIT_API_MERGE'] = '0' before importing JAX or Dynamics.\n",
      "  warnings.warn(\n"
     ]
    }
   ],
   "source": [
    "from qiskit_dynamics import Solver, DynamicsBackend\n",
    "from qiskit_dynamics.backend import default_experiment_result_function\n",
    "from qiskit_dynamics.array import Array\n",
    "import jax\n",
    "from qiskit.providers.fake_provider import *\n",
    "from qiskit import pulse"
   ]
  },
  {
   "cell_type": "code",
   "execution_count": 2,
   "id": "c8dae73e-ac43-4e9b-a87c-ef20142625a3",
   "metadata": {},
   "outputs": [
    {
     "name": "stderr",
     "output_type": "stream",
     "text": [
      "An NVIDIA GPU may be present on this machine, but a CUDA-enabled jaxlib is not installed. Falling back to cpu.\n"
     ]
    }
   ],
   "source": [
    "from qiskit_nature.units import DistanceUnit\n",
    "from qiskit_nature.second_q.drivers import PySCFDriver\n",
    "from qiskit_nature.second_q.mappers import JordanWignerMapper, ParityMapper\n",
    "import numpy as np\n",
    "from qiskit_nature.second_q.formats.molecule_info import MoleculeInfo\n",
    "from qiskit_nature.second_q.drivers import PySCFDriver\n",
    "\n",
    "gate_backend = FakeManila()\n",
    "gate_backend.configuration().hamiltonian['qub'] = {'0': 2,'1': 2,'2': 2,'3': 2,'4': 2}\n",
    "jax.config.update(\"jax_enable_x64\", True)\n",
    "jax.config.update(\"jax_platform_name\", \"cpu\")\n",
    "Array.set_default_backend(\"jax\")\n",
    "pulse_backend = DynamicsBackend.from_backend(gate_backend, evaluation_mode=\"sparse\")\n",
    "solver_options = {\"method\": \"jax_odeint\", \"atol\": 1e-6, \"rtol\": 1e-8}\n",
    "pulse_backend.set_options(solver_options=solver_options)\n",
    "pulse_backend.configuration = lambda: gate_backend.configuration()"
   ]
  },
  {
   "cell_type": "code",
   "execution_count": 3,
   "id": "e311a7a2-ad27-4bd9-bf15-ce14ebb44392",
   "metadata": {},
   "outputs": [
    {
     "name": "stderr",
     "output_type": "stream",
     "text": [
      "/home/riccardo/.venv/lib/python3.10/site-packages/pyscf/dft/libxc.py:771: UserWarning: Since PySCF-2.3, B3LYP (and B3P86) are changed to the VWN-RPA variant, corresponding to the original definition by Stephens et al. (issue 1480) and the same as the B3LYP functional in Gaussian. To restore the VWN5 definition, you can put the setting \"B3LYP_WITH_VWN5 = True\" in pyscf_conf.py\n",
      "  warnings.warn('Since PySCF-2.3, B3LYP (and B3P86) are changed to the VWN-RPA variant, '\n"
     ]
    }
   ],
   "source": [
    "simplified_h2_molecule = \"\"\"\n",
    "H 0.0 0.0 0.0\n",
    "H 0.0 0.0 0.735\n",
    "\"\"\"\n",
    "\n",
    "driver = PySCFDriver(\n",
    "    atom=simplified_h2_molecule.strip(),\n",
    "    basis='sto3g',\n",
    "    charge=0,\n",
    "    spin=0,\n",
    "    unit=DistanceUnit.ANGSTROM\n",
    ")\n",
    "\n",
    "qmolecule = driver.run()"
   ]
  },
  {
   "cell_type": "code",
   "execution_count": 4,
   "id": "86031310-8e3d-4599-b7d2-a250cb480acd",
   "metadata": {},
   "outputs": [],
   "source": [
    "from qiskit_nature import settings\n",
    "settings.use_pauli_sum_op = False"
   ]
  },
  {
   "cell_type": "code",
   "execution_count": 5,
   "id": "0561f57b-018a-44d2-b917-23532b494972",
   "metadata": {},
   "outputs": [],
   "source": [
    "hamiltonian = qmolecule.hamiltonian\n",
    "coefficients = hamiltonian.electronic_integrals\n",
    "second_q_op = hamiltonian.second_q_op()\n",
    "nuclear_cont = hamiltonian.nuclear_repulsion_energy"
   ]
  },
  {
   "cell_type": "code",
   "execution_count": 6,
   "id": "026dcd5c-4fd6-4c37-86f6-b30d4de31458",
   "metadata": {},
   "outputs": [
    {
     "name": "stdout",
     "output_type": "stream",
     "text": [
      "Polynomial Tensor\n",
      " \"+-\":\n",
      "array([[-1.25633907e+00, -1.37083854e-17],\n",
      "       [-6.07732712e-17, -4.71896007e-01]])\n",
      " \"++--\":\n",
      "array([6.75710155e-01, 1.38777878e-16, 1.80931200e-01, 6.64581730e-01,\n",
      "       5.55111512e-17, 6.98573723e-01])\n"
     ]
    }
   ],
   "source": [
    "print(coefficients.alpha)"
   ]
  },
  {
   "cell_type": "code",
   "execution_count": 7,
   "id": "e43bb255-e79b-4ffa-aeb0-2340e38ca54d",
   "metadata": {},
   "outputs": [
    {
     "name": "stdout",
     "output_type": "stream",
     "text": [
      "Polynomial Tensor\n",
      " \n"
     ]
    }
   ],
   "source": [
    "print(coefficients.beta)"
   ]
  },
  {
   "cell_type": "code",
   "execution_count": 8,
   "id": "1c21e3bb-15f5-4ae3-9b10-9ee7902e95ce",
   "metadata": {},
   "outputs": [
    {
     "name": "stdout",
     "output_type": "stream",
     "text": [
      "Polynomial Tensor\n",
      " \n"
     ]
    }
   ],
   "source": [
    "print(coefficients.beta_alpha)"
   ]
  },
  {
   "cell_type": "code",
   "execution_count": 9,
   "id": "d4f1c0bf-e5ca-4726-915c-7fd8e7bb433b",
   "metadata": {},
   "outputs": [
    {
     "name": "stdout",
     "output_type": "stream",
     "text": [
      "Fermionic Operator\n",
      "number spin orbitals=4, number terms=36\n",
      "  -1.25633907300325 * ( +_0 -_0 )\n",
      "+ -0.47189600728114184 * ( +_1 -_1 )\n",
      "+ -1.25633907300325 * ( +_2 -_2 )\n",
      "+ -0.47189600728114184 * ( +_3 -_3 )\n",
      "+ 0.33785507740175813 * ( +_0 +_0 -_0 -_0 )\n",
      "+ 0.3322908651276482 * ( +_0 +_1 -_1 -_0 )\n",
      "+ 0.33785507740175813 * ( +_0 +_2 -_2 -_0 )\n",
      "+ 0.3322908651276482 * ( +_0 +_3 -_3 -_0 )\n",
      "+ 0.09046559989211572 * ( +_0 +_0 -_1 -_1 )\n",
      "+ 0.09046559989211572 * ( +_0 +_1 -_0 -_1 )\n",
      "+ 0.09046559989211572 * ( +_0 +_2 -_3 -_1 )\n",
      "+ 0.09046559989211572 * ( +_0 +_3 -_2 -_1 )\n",
      "+ 0.09046559989211572 * ( +_1 +_0 -_1 -_0 )\n",
      "+ 0.09046559989211572 * ( +_1 +_1 -_0 -_0 )\n",
      "+ 0.09046559989211572 * ( +_1 +_2 -_3 -_0 )\n",
      "+ 0.09046559989211572 * ( +_1 +_3 -_2 -_0 )\n",
      "+ 0.3322908651276482 * ( +_1 +_0 -_0 -_1 )\n",
      "+ 0.34928686136600884 * ( +_1 +_1 -_1 -_1 )\n",
      "+ 0.3322908651276482 * ( +_1 +_2 -_2 -_1 )\n",
      "+ 0.34928686136600884 * ( +_1 +_3 -_3 -_1 )\n",
      "+ 0.33785507740175813 * ( +_2 +_0 -_0 -_2 )\n",
      "+ 0.3322908651276482 * ( +_2 +_1 -_1 -_2 )\n",
      "+ 0.33785507740175813 * ( +_2 +_2 -_2 -_2 )\n",
      "+ 0.3322908651276482 * ( +_2 +_3 -_3 -_2 )\n",
      "+ 0.09046559989211572 * ( +_2 +_0 -_1 -_3 )\n",
      "+ 0.09046559989211572 * ( +_2 +_1 -_0 -_3 )\n",
      "+ 0.09046559989211572 * ( +_2 +_2 -_3 -_3 )\n",
      "+ 0.09046559989211572 * ( +_2 +_3 -_2 -_3 )\n",
      "+ 0.09046559989211572 * ( +_3 +_0 -_1 -_2 )\n",
      "+ 0.09046559989211572 * ( +_3 +_1 -_0 -_2 )\n",
      "+ 0.09046559989211572 * ( +_3 +_2 -_3 -_2 )\n",
      "+ 0.09046559989211572 * ( +_3 +_3 -_2 -_2 )\n",
      "+ 0.3322908651276482 * ( +_3 +_0 -_0 -_3 )\n",
      "+ 0.34928686136600884 * ( +_3 +_1 -_1 -_3 )\n",
      "+ 0.3322908651276482 * ( +_3 +_2 -_2 -_3 )\n",
      "+ 0.34928686136600884 * ( +_3 +_3 -_3 -_3 )\n"
     ]
    }
   ],
   "source": [
    "print(second_q_op)"
   ]
  },
  {
   "cell_type": "code",
   "execution_count": 10,
   "id": "f1cdc806-18d7-477f-9de8-ec849fdc485a",
   "metadata": {},
   "outputs": [
    {
     "name": "stdout",
     "output_type": "stream",
     "text": [
      "SparsePauliOp(['IIII', 'IIIZ', 'IIZI', 'IZII', 'ZIII', 'IIZZ', 'IZIZ', 'ZIIZ', 'YYYY', 'XXYY', 'YYXX', 'XXXX', 'IZZI', 'ZIZI', 'ZZII'],\n",
      "              coeffs=[-0.81054798+0.j,  0.17218393+0.j, -0.22575349+0.j,  0.17218393+0.j,\n",
      " -0.22575349+0.j,  0.12091263+0.j,  0.16892754+0.j,  0.16614543+0.j,\n",
      "  0.0452328 +0.j,  0.0452328 +0.j,  0.0452328 +0.j,  0.0452328 +0.j,\n",
      "  0.16614543+0.j,  0.17464343+0.j,  0.12091263+0.j])\n",
      "Rappresentazione della stringa: SparsePauliOp(['IIII'],\n",
      "              coeffs=[-0.81054798+0.j])\n",
      "Rappresentazione della stringa: SparsePauliOp(['IIIZ'],\n",
      "              coeffs=[0.17218393+0.j])\n",
      "Rappresentazione della stringa: SparsePauliOp(['IIZI'],\n",
      "              coeffs=[-0.22575349+0.j])\n",
      "Rappresentazione della stringa: SparsePauliOp(['IZII'],\n",
      "              coeffs=[0.17218393+0.j])\n",
      "Rappresentazione della stringa: SparsePauliOp(['ZIII'],\n",
      "              coeffs=[-0.22575349+0.j])\n",
      "Rappresentazione della stringa: SparsePauliOp(['IIZZ'],\n",
      "              coeffs=[0.12091263+0.j])\n",
      "Rappresentazione della stringa: SparsePauliOp(['IZIZ'],\n",
      "              coeffs=[0.16892754+0.j])\n",
      "Rappresentazione della stringa: SparsePauliOp(['ZIIZ'],\n",
      "              coeffs=[0.16614543+0.j])\n",
      "Rappresentazione della stringa: SparsePauliOp(['YYYY'],\n",
      "              coeffs=[0.0452328+0.j])\n",
      "Rappresentazione della stringa: SparsePauliOp(['XXYY'],\n",
      "              coeffs=[0.0452328+0.j])\n",
      "Rappresentazione della stringa: SparsePauliOp(['YYXX'],\n",
      "              coeffs=[0.0452328+0.j])\n",
      "Rappresentazione della stringa: SparsePauliOp(['XXXX'],\n",
      "              coeffs=[0.0452328+0.j])\n",
      "Rappresentazione della stringa: SparsePauliOp(['IZZI'],\n",
      "              coeffs=[0.16614543+0.j])\n",
      "Rappresentazione della stringa: SparsePauliOp(['ZIZI'],\n",
      "              coeffs=[0.17464343+0.j])\n",
      "Rappresentazione della stringa: SparsePauliOp(['ZZII'],\n",
      "              coeffs=[0.12091263+0.j])\n",
      "{\"IIII'],\\n              coeffs=[-0.81054798+0.j]\": (-0.81054798+0j), \"IIIZ'],\\n              coeffs=[0.17218393+0.j]\": (0.17218393+0j), \"IIZI'],\\n              coeffs=[-0.22575349+0.j]\": (-0.22575349+0j), \"IZII'],\\n              coeffs=[0.17218393+0.j]\": (0.17218393+0j), \"ZIII'],\\n              coeffs=[-0.22575349+0.j]\": (-0.22575349+0j), \"IIZZ'],\\n              coeffs=[0.12091263+0.j]\": (0.12091263+0j), \"IZIZ'],\\n              coeffs=[0.16892754+0.j]\": (0.16892754+0j), \"ZIIZ'],\\n              coeffs=[0.16614543+0.j]\": (0.16614543+0j), \"YYYY'],\\n              coeffs=[0.0452328+0.j]\": (0.0452328+0j), \"XXYY'],\\n              coeffs=[0.0452328+0.j]\": (0.0452328+0j), \"YYXX'],\\n              coeffs=[0.0452328+0.j]\": (0.0452328+0j), \"XXXX'],\\n              coeffs=[0.0452328+0.j]\": (0.0452328+0j), \"IZZI'],\\n              coeffs=[0.16614543+0.j]\": (0.16614543+0j), \"ZIZI'],\\n              coeffs=[0.17464343+0.j]\": (0.17464343+0j), \"ZZII'],\\n              coeffs=[0.12091263+0.j]\": (0.12091263+0j)}\n"
     ]
    }
   ],
   "source": [
    "import re\n",
    "\n",
    "mapper = JordanWignerMapper()\n",
    "qubit_op = mapper.map(second_q_op)\n",
    "print(qubit_op)\n",
    "\n",
    "my_dict = {}\n",
    "\n",
    "for pauli in qubit_op:\n",
    "    str_info = pauli.__str__()\n",
    "    print(f\"Rappresentazione della stringa: {str_info}\")\n",
    "\n",
    "    # Estrai i coefficienti\n",
    "    coeffs_start = str_info.find(\"coeffs=[\") + len(\"coeffs=[\")\n",
    "    coeffs_end = str_info.find(\"]\", coeffs_start)\n",
    "    coeffs_str = str_info[coeffs_start:coeffs_end].strip()\n",
    "    \n",
    "    # Estrai gli operatori come stringa\n",
    "    operators_start = str_info.find(\"Op(['\") + len(\"Op(['\")\n",
    "    operators_end = str_info.find(\"'])\", operators_start)\n",
    "    operators_str = str_info[operators_start:operators_end]\n",
    "\n",
    "    # Utilizza espressioni regolari per estrarre la parte reale e immaginaria dei coefficienti\n",
    "    coeffs_match = re.findall(r\"(-?\\d+\\.\\d+)([+-]\\d+\\.\\d+j)?\", coeffs_str)\n",
    "\n",
    "    # Inizializza i coefficienti come float\n",
    "    real_coeffs = [float(match[0]) for match in coeffs_match]\n",
    "    imag_coeffs = [float(match[1]) if match[1] else 0.0 for match in coeffs_match]\n",
    "\n",
    "    # Somma i coefficienti complessi\n",
    "    complex_coeff = sum(complex(real, imag) for real, imag in zip(real_coeffs, imag_coeffs))\n",
    "\n",
    "    # Aggiungi il coefficiente all'operatore nel dizionario\n",
    "    current_coeff = my_dict.get(operators_str, 0.0)\n",
    "    my_dict[operators_str] = current_coeff + complex_coeff\n",
    "\n",
    "print(my_dict)\n"
   ]
  },
  {
   "cell_type": "code",
   "execution_count": 11,
   "id": "2a167416-d717-4512-9b89-16ada58c2e64",
   "metadata": {},
   "outputs": [],
   "source": [
    "from qiskit.pulse import Schedule, GaussianSquare, Drag, Delay, Play, ControlChannel, DriveChannel\n",
    "\n",
    "def drag_pulse(backend, amp, angle):\n",
    "    backend_defaults = backend.defaults()\n",
    "    inst_sched_map = backend_defaults.instruction_schedule_map\n",
    "    x_pulse = inst_sched_map.get('x', (0)).filter(channels=[DriveChannel(0)], instruction_types=[Play]).instructions[0][1].pulse\n",
    "    x_pulse = inst_sched_map.get('x', (0)).filter(channels=[DriveChannel(0)], instruction_types=[Play]).instructions[0][1].pulse\n",
    "    duration_parameter = x_pulse.parameters['duration']\n",
    "    sigma_parameter = x_pulse.parameters['sigma']\n",
    "    beta_parameter = x_pulse.parameters['beta']\n",
    "    pulse1 = Drag(duration=duration_parameter, sigma=sigma_parameter, beta=beta_parameter, amp=amp, angle=angle)\n",
    "    return pulse1"
   ]
  },
  {
   "cell_type": "code",
   "execution_count": 12,
   "id": "ae064d14-2c1c-4801-ba58-63df2f31b2cd",
   "metadata": {},
   "outputs": [],
   "source": [
    "def cr_pulse(backend, amp, angle, duration):\n",
    "    backend_defaults = backend.defaults()\n",
    "    inst_sched_map = backend_defaults.instruction_schedule_map\n",
    "    cr_pulse = inst_sched_map.get('cx', (0, 1)).filter(channels=[ControlChannel(0)], instruction_types=[Play]).instructions[0][1].pulse\n",
    "    cr_params = {\n",
    "        'duration': cr_pulse.parameters['duration'],\n",
    "        'amp': cr_pulse.parameters['amp'],\n",
    "        'angle': cr_pulse.parameters['angle'],\n",
    "        'sigma': cr_pulse.parameters['sigma'],\n",
    "        'width': cr_pulse.parameters['width']\n",
    "    }\n",
    "    cr_risefall = (cr_params['duration'] - cr_params['width']) / (2 * cr_params['sigma'])\n",
    "    angle_parameter = angle\n",
    "    duration_parameter = duration\n",
    "    sigma_parameter = cr_pulse.parameters['sigma']\n",
    "    width_parameter = int(duration_parameter - 2 * cr_risefall * cr_params['sigma'])\n",
    "    pulse1 = GaussianSquare(duration=duration_parameter, amp=amp, angle=angle_parameter, sigma=sigma_parameter, width=width_parameter)\n",
    "\n",
    "    return pulse1"
   ]
  },
  {
   "cell_type": "code",
   "execution_count": 13,
   "id": "b4004597-0c56-4f29-8949-dadd5b70b39b",
   "metadata": {},
   "outputs": [],
   "source": [
    "import qiskit.pulse as pulse\n",
    "def HE_pulse(backend, amp, angle, width):\n",
    "    # Crea un programma di impulsi vuoto\n",
    "    with pulse.build(backend) as my_program1:\n",
    "        sched_list = []\n",
    "        # Layer 1: Applica una porta X su ciascun qubit\n",
    "        with pulse.build(backend) as sched1:\n",
    "            qubits = (0, 1, 2, 3, 4)\n",
    "            for i in range(4):\n",
    "                pulse.play(drag_pulse(backend, amp[i], angle[i]), DriveChannel(qubits[i]))\n",
    "            sched_list.append(sched1)\n",
    "\n",
    "        # Layer 2: Applica una porta di controllo tra qubit 0 e 1\n",
    "        with pulse.build(backend) as sched2:\n",
    "            uchan = pulse.control_channels(0, 1)[0]\n",
    "            pulse.play(cr_pulse(backend, amp[4], angle[4], width[0]), uchan)\n",
    "            sched_list.append(sched2)\n",
    "\n",
    "        # Layer 3: Applica una porta di controllo tra qubit 1 e 2\n",
    "        with pulse.build(backend) as sched4:\n",
    "            uchan = pulse.control_channels(1, 2)[0]\n",
    "            pulse.play(cr_pulse(backend, amp[5], angle[5], width[1]), uchan)\n",
    "            sched_list.append(sched4)\n",
    "\n",
    "        # Layer 4: Applica una porta di controllo tra qubit 2 e 3\n",
    "        with pulse.build(backend) as sched6:\n",
    "            uchan = pulse.control_channels(2, 3)[0]\n",
    "            pulse.play(cr_pulse(backend, amp[6], angle[6], width[2]), uchan)\n",
    "            sched_list.append(sched6)\n",
    "\n",
    "        # Costruisci il programma principale allineando sequenzialmente gli schedule\n",
    "        with pulse.build(backend) as my_program:\n",
    "            with pulse.transpiler_settings(initial_layout=[0, 1, 2, 3]):\n",
    "                with pulse.align_sequential():\n",
    "                    for sched in sched_list:\n",
    "                        pulse.call(sched)\n",
    "\n",
    "    return my_program"
   ]
  },
  {
   "cell_type": "code",
   "execution_count": 14,
   "id": "1705be72-aabf-40f4-86cc-e2115afc322f",
   "metadata": {},
   "outputs": [],
   "source": [
    "import copy\n",
    "from scipy.optimize import minimize, LinearConstraint\n",
    "\n",
    "def measurement_pauli(prepulse, pauli_string, backend, n_qubit):\n",
    "    with pulse.build(backend) as pulse_measure:\n",
    "        pulse.call(copy.deepcopy(prepulse))\n",
    "        for ind, pauli in enumerate(pauli_string):\n",
    "            if pauli == 'X':\n",
    "                pulse.u2(0, np.pi, ind)\n",
    "            elif pauli == 'Y':\n",
    "                pulse.u2(0, np.pi / 2, ind)\n",
    "        for qubit in range(n_qubit):\n",
    "            pulse.barrier(qubit)\n",
    "        pulse.measure(range(n_qubit))\n",
    "    return pulse_measure\n",
    "\n",
    "def n_one(bitstring, key):\n",
    "    results = 0\n",
    "    for ind, b in enumerate(reversed(bitstring)):\n",
    "        if b == '1' and key[ind] != 'I':\n",
    "            results += 1\n",
    "    return results\n",
    "\n",
    "def expectation_value(counts, shots, key):\n",
    "    results = 0\n",
    "    for bitstring in counts:\n",
    "        if n_one(bitstring, key) % 2 == 1:\n",
    "            results -= counts[bitstring] / shots\n",
    "        else:\n",
    "            results += counts[bitstring] / shots\n",
    "    return results\n",
    "\n",
    "def run_pulse_sim(meas_pulse, key, pulse_backend, backend, n_shot):\n",
    "    results = pulse_backend.run(meas_pulse).result()\n",
    "    counts = results.get_counts()\n",
    "    expectation = expectation_value(counts, n_shot, key)\n",
    "    return expectation\n",
    "\n",
    "def gen_LC_vqe(parameters):\n",
    "    lb = np.zeros(parameters)\n",
    "    ub = np.ones(parameters)\n",
    "    LC = LinearConstraint(np.eye(parameters), lb, ub, keep_feasible=False)\n",
    "    return LC"
   ]
  },
  {
   "cell_type": "code",
   "execution_count": 15,
   "id": "218c249c-96e7-4854-aaa2-1e2107322689",
   "metadata": {},
   "outputs": [],
   "source": [
    "def vqe_one(prepulse, n_qubit, n_shot, pulse_backend, backend, key, value):\n",
    "    all_Is = all(key_ele == 'I' for key_ele in key)\n",
    "    if all_Is:\n",
    "        return value\n",
    "\n",
    "    meas_pulse = measurement_pauli(prepulse=prepulse, pauli_string=key, backend=backend, n_qubit=n_qubit)\n",
    "\n",
    "    return value * run_pulse_sim(meas_pulse, key, pulse_backend, backend, n_shot)"
   ]
  },
  {
   "cell_type": "code",
   "execution_count": 16,
   "id": "a5054bd9-7e37-497e-a167-ca9547580a1e",
   "metadata": {},
   "outputs": [],
   "source": [
    "def vqe(params, pauli_dict, pulse_backend, backend, n_qubit, n_shot):\n",
    "    print(\"params in def chemistry in vqe.py: \", params)\n",
    "\n",
    "    width_len = int(len(params) - 1 * (n_qubit - 1))\n",
    "\n",
    "    split_ind = int(width_len / 2)\n",
    "\n",
    "    # Estrai le ampiezze, gli angoli e le larghezze dalla lista dei parametri\n",
    "    amp = np.array(params[:split_ind])\n",
    "    angle = np.array(params[split_ind:width_len]) * np.pi * 2\n",
    "    width_1 = np.array(params[width_len:])\n",
    "\n",
    "    # Calcola il numero di intervalli di larghezza normalizzati\n",
    "    num_items = (1024 - 256) // 16 + 1\n",
    "\n",
    "    # Normalizza le larghezze tra 256 e 1024\n",
    "    width_norm = (width_1 - 256) / (1024 - 256)\n",
    "    width_norm = np.clip(width_norm, 0, 1)\n",
    "\n",
    "    # Calcola le larghezze in base alla normalizzazione\n",
    "    width = (np.round(width_norm * (num_items - 1)) * 16 + 256).astype(int)\n",
    "\n",
    "    amp = amp.tolist()\n",
    "    angle = angle.tolist()\n",
    "    width = width.tolist()\n",
    "\n",
    "    keys = [key for key in pauli_dict]\n",
    "    values = [pauli_dict[key] for key in pauli_dict]\n",
    "\n",
    "    expect_values = []\n",
    "    for key, value in zip(keys, values):\n",
    "        # Genera l'impulso di preparazione\n",
    "        prepulse = HE_pulse(backend, amp, angle, width)\n",
    "\n",
    "        expect = vqe_one(prepulse, n_qubit, n_shot, pulse_backend, backend, key, value)\n",
    "        expect_values.append(expect)\n",
    "\n",
    "    print(\"E for cur_iter: \", sum(expect_values))\n",
    "\n",
    "    return sum(expect_values)"
   ]
  },
  {
   "cell_type": "code",
   "execution_count": 20,
   "id": "b5dc377d-a014-4e9c-87d4-5a0787062683",
   "metadata": {},
   "outputs": [
    {
     "name": "stdout",
     "output_type": "stream",
     "text": [
      "params in def chemistry in vqe.py:  [0. 0. 0.]\n"
     ]
    },
    {
     "ename": "IndexError",
     "evalue": "list index out of range",
     "output_type": "error",
     "traceback": [
      "\u001b[0;31m---------------------------------------------------------------------------\u001b[0m",
      "\u001b[0;31mIndexError\u001b[0m                                Traceback (most recent call last)",
      "Cell \u001b[0;32mIn[20], line 12\u001b[0m\n\u001b[1;32m      9\u001b[0m n_shot \u001b[38;5;241m=\u001b[39m \u001b[38;5;241m1024\u001b[39m\n\u001b[1;32m     10\u001b[0m optimizer \u001b[38;5;241m=\u001b[39m \u001b[38;5;124m'\u001b[39m\u001b[38;5;124mCOBYLA\u001b[39m\u001b[38;5;124m'\u001b[39m\n\u001b[0;32m---> 12\u001b[0m vqe_res \u001b[38;5;241m=\u001b[39m \u001b[43mminimize\u001b[49m\u001b[43m(\u001b[49m\u001b[43mvqe\u001b[49m\u001b[43m,\u001b[49m\u001b[43m \u001b[49m\u001b[43mparams\u001b[49m\u001b[43m,\u001b[49m\u001b[43m \u001b[49m\u001b[43margs\u001b[49m\u001b[38;5;241;43m=\u001b[39;49m\u001b[43m(\u001b[49m\u001b[43mmy_dict\u001b[49m\u001b[43m,\u001b[49m\u001b[43m \u001b[49m\u001b[43mpulse_backend\u001b[49m\u001b[43m,\u001b[49m\u001b[43m \u001b[49m\u001b[43mgate_backend\u001b[49m\u001b[43m,\u001b[49m\u001b[43m \u001b[49m\u001b[43mn_qubit\u001b[49m\u001b[43m,\u001b[49m\u001b[43m \u001b[49m\u001b[43mn_shot\u001b[49m\u001b[43m)\u001b[49m\u001b[43m,\u001b[49m\n\u001b[1;32m     13\u001b[0m \u001b[43m                   \u001b[49m\u001b[43mmethod\u001b[49m\u001b[38;5;241;43m=\u001b[39;49m\u001b[43moptimizer\u001b[49m\u001b[43m,\u001b[49m\u001b[43m \u001b[49m\u001b[43mconstraints\u001b[49m\u001b[38;5;241;43m=\u001b[39;49m\u001b[43mLC\u001b[49m\u001b[43m,\u001b[49m\u001b[43m \u001b[49m\u001b[43moptions\u001b[49m\u001b[38;5;241;43m=\u001b[39;49m\u001b[43m{\u001b[49m\u001b[38;5;124;43m'\u001b[39;49m\u001b[38;5;124;43mrhobeg\u001b[39;49m\u001b[38;5;124;43m'\u001b[39;49m\u001b[43m:\u001b[49m\u001b[43m \u001b[49m\u001b[38;5;241;43m0.2\u001b[39;49m\u001b[43m,\u001b[49m\u001b[43m \u001b[49m\u001b[38;5;124;43m'\u001b[39;49m\u001b[38;5;124;43mmaxiter\u001b[39;49m\u001b[38;5;124;43m'\u001b[39;49m\u001b[43m:\u001b[49m\u001b[43m \u001b[49m\u001b[38;5;241;43m70\u001b[39;49m\u001b[43m,\u001b[49m\u001b[43m \u001b[49m\u001b[38;5;124;43m'\u001b[39;49m\u001b[38;5;124;43mdisp\u001b[39;49m\u001b[38;5;124;43m'\u001b[39;49m\u001b[43m:\u001b[49m\u001b[43m \u001b[49m\u001b[38;5;28;43;01mTrue\u001b[39;49;00m\u001b[43m}\u001b[49m\u001b[43m)\u001b[49m\n\u001b[1;32m     15\u001b[0m \u001b[38;5;28mprint\u001b[39m(my_dict)\n\u001b[1;32m     17\u001b[0m \u001b[38;5;28mprint\u001b[39m(\u001b[38;5;124m'\u001b[39m\u001b[38;5;124mThe optimized loss func value: \u001b[39m\u001b[38;5;132;01m{}\u001b[39;00m\u001b[38;5;124m'\u001b[39m\u001b[38;5;241m.\u001b[39mformat(vqe_res\u001b[38;5;241m.\u001b[39mfun))\n",
      "File \u001b[0;32m~/.venv/lib/python3.10/site-packages/scipy/optimize/_minimize.py:716\u001b[0m, in \u001b[0;36mminimize\u001b[0;34m(fun, x0, args, method, jac, hess, hessp, bounds, constraints, tol, callback, options)\u001b[0m\n\u001b[1;32m    713\u001b[0m     res \u001b[38;5;241m=\u001b[39m _minimize_tnc(fun, x0, args, jac, bounds, callback\u001b[38;5;241m=\u001b[39mcallback,\n\u001b[1;32m    714\u001b[0m                         \u001b[38;5;241m*\u001b[39m\u001b[38;5;241m*\u001b[39moptions)\n\u001b[1;32m    715\u001b[0m \u001b[38;5;28;01melif\u001b[39;00m meth \u001b[38;5;241m==\u001b[39m \u001b[38;5;124m'\u001b[39m\u001b[38;5;124mcobyla\u001b[39m\u001b[38;5;124m'\u001b[39m:\n\u001b[0;32m--> 716\u001b[0m     res \u001b[38;5;241m=\u001b[39m \u001b[43m_minimize_cobyla\u001b[49m\u001b[43m(\u001b[49m\u001b[43mfun\u001b[49m\u001b[43m,\u001b[49m\u001b[43m \u001b[49m\u001b[43mx0\u001b[49m\u001b[43m,\u001b[49m\u001b[43m \u001b[49m\u001b[43margs\u001b[49m\u001b[43m,\u001b[49m\u001b[43m \u001b[49m\u001b[43mconstraints\u001b[49m\u001b[43m,\u001b[49m\u001b[43m \u001b[49m\u001b[43mcallback\u001b[49m\u001b[38;5;241;43m=\u001b[39;49m\u001b[43mcallback\u001b[49m\u001b[43m,\u001b[49m\n\u001b[1;32m    717\u001b[0m \u001b[43m                           \u001b[49m\u001b[43mbounds\u001b[49m\u001b[38;5;241;43m=\u001b[39;49m\u001b[43mbounds\u001b[49m\u001b[43m,\u001b[49m\u001b[43m \u001b[49m\u001b[38;5;241;43m*\u001b[39;49m\u001b[38;5;241;43m*\u001b[39;49m\u001b[43moptions\u001b[49m\u001b[43m)\u001b[49m\n\u001b[1;32m    718\u001b[0m \u001b[38;5;28;01melif\u001b[39;00m meth \u001b[38;5;241m==\u001b[39m \u001b[38;5;124m'\u001b[39m\u001b[38;5;124mslsqp\u001b[39m\u001b[38;5;124m'\u001b[39m:\n\u001b[1;32m    719\u001b[0m     res \u001b[38;5;241m=\u001b[39m _minimize_slsqp(fun, x0, args, jac, bounds,\n\u001b[1;32m    720\u001b[0m                           constraints, callback\u001b[38;5;241m=\u001b[39mcallback, \u001b[38;5;241m*\u001b[39m\u001b[38;5;241m*\u001b[39moptions)\n",
      "File \u001b[0;32m~/.venv/lib/python3.10/site-packages/scipy/optimize/_cobyla_py.py:35\u001b[0m, in \u001b[0;36msynchronized.<locals>.wrapper\u001b[0;34m(*args, **kwargs)\u001b[0m\n\u001b[1;32m     32\u001b[0m \u001b[38;5;129m@functools\u001b[39m\u001b[38;5;241m.\u001b[39mwraps(func)\n\u001b[1;32m     33\u001b[0m \u001b[38;5;28;01mdef\u001b[39;00m \u001b[38;5;21mwrapper\u001b[39m(\u001b[38;5;241m*\u001b[39margs, \u001b[38;5;241m*\u001b[39m\u001b[38;5;241m*\u001b[39mkwargs):\n\u001b[1;32m     34\u001b[0m     \u001b[38;5;28;01mwith\u001b[39;00m _module_lock:\n\u001b[0;32m---> 35\u001b[0m         \u001b[38;5;28;01mreturn\u001b[39;00m \u001b[43mfunc\u001b[49m\u001b[43m(\u001b[49m\u001b[38;5;241;43m*\u001b[39;49m\u001b[43margs\u001b[49m\u001b[43m,\u001b[49m\u001b[43m \u001b[49m\u001b[38;5;241;43m*\u001b[39;49m\u001b[38;5;241;43m*\u001b[39;49m\u001b[43mkwargs\u001b[49m\u001b[43m)\u001b[49m\n",
      "File \u001b[0;32m~/.venv/lib/python3.10/site-packages/scipy/optimize/_cobyla_py.py:278\u001b[0m, in \u001b[0;36m_minimize_cobyla\u001b[0;34m(fun, x0, args, constraints, rhobeg, tol, maxiter, disp, catol, callback, bounds, **unknown_options)\u001b[0m\n\u001b[1;32m    275\u001b[0m \u001b[38;5;28;01mdef\u001b[39;00m \u001b[38;5;21m_jac\u001b[39m(x, \u001b[38;5;241m*\u001b[39margs):\n\u001b[1;32m    276\u001b[0m     \u001b[38;5;28;01mreturn\u001b[39;00m \u001b[38;5;28;01mNone\u001b[39;00m\n\u001b[0;32m--> 278\u001b[0m sf \u001b[38;5;241m=\u001b[39m \u001b[43m_prepare_scalar_function\u001b[49m\u001b[43m(\u001b[49m\u001b[43mfun\u001b[49m\u001b[43m,\u001b[49m\u001b[43m \u001b[49m\u001b[43mx0\u001b[49m\u001b[43m,\u001b[49m\u001b[43m \u001b[49m\u001b[43margs\u001b[49m\u001b[38;5;241;43m=\u001b[39;49m\u001b[43margs\u001b[49m\u001b[43m,\u001b[49m\u001b[43m \u001b[49m\u001b[43mjac\u001b[49m\u001b[38;5;241;43m=\u001b[39;49m\u001b[43m_jac\u001b[49m\u001b[43m)\u001b[49m\n\u001b[1;32m    280\u001b[0m \u001b[38;5;28;01mdef\u001b[39;00m \u001b[38;5;21mcalcfc\u001b[39m(x, con):\n\u001b[1;32m    281\u001b[0m     f \u001b[38;5;241m=\u001b[39m sf\u001b[38;5;241m.\u001b[39mfun(x)\n",
      "File \u001b[0;32m~/.venv/lib/python3.10/site-packages/scipy/optimize/_optimize.py:383\u001b[0m, in \u001b[0;36m_prepare_scalar_function\u001b[0;34m(fun, x0, jac, args, bounds, epsilon, finite_diff_rel_step, hess)\u001b[0m\n\u001b[1;32m    379\u001b[0m     bounds \u001b[38;5;241m=\u001b[39m (\u001b[38;5;241m-\u001b[39mnp\u001b[38;5;241m.\u001b[39minf, np\u001b[38;5;241m.\u001b[39minf)\n\u001b[1;32m    381\u001b[0m \u001b[38;5;66;03m# ScalarFunction caches. Reuse of fun(x) during grad\u001b[39;00m\n\u001b[1;32m    382\u001b[0m \u001b[38;5;66;03m# calculation reduces overall function evaluations.\u001b[39;00m\n\u001b[0;32m--> 383\u001b[0m sf \u001b[38;5;241m=\u001b[39m \u001b[43mScalarFunction\u001b[49m\u001b[43m(\u001b[49m\u001b[43mfun\u001b[49m\u001b[43m,\u001b[49m\u001b[43m \u001b[49m\u001b[43mx0\u001b[49m\u001b[43m,\u001b[49m\u001b[43m \u001b[49m\u001b[43margs\u001b[49m\u001b[43m,\u001b[49m\u001b[43m \u001b[49m\u001b[43mgrad\u001b[49m\u001b[43m,\u001b[49m\u001b[43m \u001b[49m\u001b[43mhess\u001b[49m\u001b[43m,\u001b[49m\n\u001b[1;32m    384\u001b[0m \u001b[43m                    \u001b[49m\u001b[43mfinite_diff_rel_step\u001b[49m\u001b[43m,\u001b[49m\u001b[43m \u001b[49m\u001b[43mbounds\u001b[49m\u001b[43m,\u001b[49m\u001b[43m \u001b[49m\u001b[43mepsilon\u001b[49m\u001b[38;5;241;43m=\u001b[39;49m\u001b[43mepsilon\u001b[49m\u001b[43m)\u001b[49m\n\u001b[1;32m    386\u001b[0m \u001b[38;5;28;01mreturn\u001b[39;00m sf\n",
      "File \u001b[0;32m~/.venv/lib/python3.10/site-packages/scipy/optimize/_differentiable_functions.py:158\u001b[0m, in \u001b[0;36mScalarFunction.__init__\u001b[0;34m(self, fun, x0, args, grad, hess, finite_diff_rel_step, finite_diff_bounds, epsilon)\u001b[0m\n\u001b[1;32m    155\u001b[0m     \u001b[38;5;28mself\u001b[39m\u001b[38;5;241m.\u001b[39mf \u001b[38;5;241m=\u001b[39m fun_wrapped(\u001b[38;5;28mself\u001b[39m\u001b[38;5;241m.\u001b[39mx)\n\u001b[1;32m    157\u001b[0m \u001b[38;5;28mself\u001b[39m\u001b[38;5;241m.\u001b[39m_update_fun_impl \u001b[38;5;241m=\u001b[39m update_fun\n\u001b[0;32m--> 158\u001b[0m \u001b[38;5;28;43mself\u001b[39;49m\u001b[38;5;241;43m.\u001b[39;49m\u001b[43m_update_fun\u001b[49m\u001b[43m(\u001b[49m\u001b[43m)\u001b[49m\n\u001b[1;32m    160\u001b[0m \u001b[38;5;66;03m# Gradient evaluation\u001b[39;00m\n\u001b[1;32m    161\u001b[0m \u001b[38;5;28;01mif\u001b[39;00m \u001b[38;5;28mcallable\u001b[39m(grad):\n",
      "File \u001b[0;32m~/.venv/lib/python3.10/site-packages/scipy/optimize/_differentiable_functions.py:251\u001b[0m, in \u001b[0;36mScalarFunction._update_fun\u001b[0;34m(self)\u001b[0m\n\u001b[1;32m    249\u001b[0m \u001b[38;5;28;01mdef\u001b[39;00m \u001b[38;5;21m_update_fun\u001b[39m(\u001b[38;5;28mself\u001b[39m):\n\u001b[1;32m    250\u001b[0m     \u001b[38;5;28;01mif\u001b[39;00m \u001b[38;5;129;01mnot\u001b[39;00m \u001b[38;5;28mself\u001b[39m\u001b[38;5;241m.\u001b[39mf_updated:\n\u001b[0;32m--> 251\u001b[0m         \u001b[38;5;28;43mself\u001b[39;49m\u001b[38;5;241;43m.\u001b[39;49m\u001b[43m_update_fun_impl\u001b[49m\u001b[43m(\u001b[49m\u001b[43m)\u001b[49m\n\u001b[1;32m    252\u001b[0m         \u001b[38;5;28mself\u001b[39m\u001b[38;5;241m.\u001b[39mf_updated \u001b[38;5;241m=\u001b[39m \u001b[38;5;28;01mTrue\u001b[39;00m\n",
      "File \u001b[0;32m~/.venv/lib/python3.10/site-packages/scipy/optimize/_differentiable_functions.py:155\u001b[0m, in \u001b[0;36mScalarFunction.__init__.<locals>.update_fun\u001b[0;34m()\u001b[0m\n\u001b[1;32m    154\u001b[0m \u001b[38;5;28;01mdef\u001b[39;00m \u001b[38;5;21mupdate_fun\u001b[39m():\n\u001b[0;32m--> 155\u001b[0m     \u001b[38;5;28mself\u001b[39m\u001b[38;5;241m.\u001b[39mf \u001b[38;5;241m=\u001b[39m \u001b[43mfun_wrapped\u001b[49m\u001b[43m(\u001b[49m\u001b[38;5;28;43mself\u001b[39;49m\u001b[38;5;241;43m.\u001b[39;49m\u001b[43mx\u001b[49m\u001b[43m)\u001b[49m\n",
      "File \u001b[0;32m~/.venv/lib/python3.10/site-packages/scipy/optimize/_differentiable_functions.py:137\u001b[0m, in \u001b[0;36mScalarFunction.__init__.<locals>.fun_wrapped\u001b[0;34m(x)\u001b[0m\n\u001b[1;32m    133\u001b[0m \u001b[38;5;28mself\u001b[39m\u001b[38;5;241m.\u001b[39mnfev \u001b[38;5;241m+\u001b[39m\u001b[38;5;241m=\u001b[39m \u001b[38;5;241m1\u001b[39m\n\u001b[1;32m    134\u001b[0m \u001b[38;5;66;03m# Send a copy because the user may overwrite it.\u001b[39;00m\n\u001b[1;32m    135\u001b[0m \u001b[38;5;66;03m# Overwriting results in undefined behaviour because\u001b[39;00m\n\u001b[1;32m    136\u001b[0m \u001b[38;5;66;03m# fun(self.x) will change self.x, with the two no longer linked.\u001b[39;00m\n\u001b[0;32m--> 137\u001b[0m fx \u001b[38;5;241m=\u001b[39m \u001b[43mfun\u001b[49m\u001b[43m(\u001b[49m\u001b[43mnp\u001b[49m\u001b[38;5;241;43m.\u001b[39;49m\u001b[43mcopy\u001b[49m\u001b[43m(\u001b[49m\u001b[43mx\u001b[49m\u001b[43m)\u001b[49m\u001b[43m,\u001b[49m\u001b[43m \u001b[49m\u001b[38;5;241;43m*\u001b[39;49m\u001b[43margs\u001b[49m\u001b[43m)\u001b[49m\n\u001b[1;32m    138\u001b[0m \u001b[38;5;66;03m# Make sure the function returns a true scalar\u001b[39;00m\n\u001b[1;32m    139\u001b[0m \u001b[38;5;28;01mif\u001b[39;00m \u001b[38;5;129;01mnot\u001b[39;00m np\u001b[38;5;241m.\u001b[39misscalar(fx):\n",
      "Cell \u001b[0;32mIn[16], line 33\u001b[0m, in \u001b[0;36mvqe\u001b[0;34m(params, pauli_dict, pulse_backend, backend, n_qubit, n_shot)\u001b[0m\n\u001b[1;32m     30\u001b[0m expect_values \u001b[38;5;241m=\u001b[39m []\n\u001b[1;32m     31\u001b[0m \u001b[38;5;28;01mfor\u001b[39;00m key, value \u001b[38;5;129;01min\u001b[39;00m \u001b[38;5;28mzip\u001b[39m(keys, values):\n\u001b[1;32m     32\u001b[0m     \u001b[38;5;66;03m# Genera l'impulso di preparazione\u001b[39;00m\n\u001b[0;32m---> 33\u001b[0m     prepulse \u001b[38;5;241m=\u001b[39m \u001b[43mHE_pulse\u001b[49m\u001b[43m(\u001b[49m\u001b[43mbackend\u001b[49m\u001b[43m,\u001b[49m\u001b[43m \u001b[49m\u001b[43mamp\u001b[49m\u001b[43m,\u001b[49m\u001b[43m \u001b[49m\u001b[43mangle\u001b[49m\u001b[43m,\u001b[49m\u001b[43m \u001b[49m\u001b[43mwidth\u001b[49m\u001b[43m)\u001b[49m\n\u001b[1;32m     35\u001b[0m     expect \u001b[38;5;241m=\u001b[39m vqe_one(prepulse, n_qubit, n_shot, pulse_backend, backend, key, value)\n\u001b[1;32m     36\u001b[0m     expect_values\u001b[38;5;241m.\u001b[39mappend(expect)\n",
      "Cell \u001b[0;32mIn[13], line 10\u001b[0m, in \u001b[0;36mHE_pulse\u001b[0;34m(backend, amp, angle, width)\u001b[0m\n\u001b[1;32m      8\u001b[0m     qubits \u001b[38;5;241m=\u001b[39m (\u001b[38;5;241m0\u001b[39m, \u001b[38;5;241m1\u001b[39m, \u001b[38;5;241m2\u001b[39m, \u001b[38;5;241m3\u001b[39m)\n\u001b[1;32m      9\u001b[0m     \u001b[38;5;28;01mfor\u001b[39;00m i \u001b[38;5;129;01min\u001b[39;00m \u001b[38;5;28mrange\u001b[39m(\u001b[38;5;241m4\u001b[39m):\n\u001b[0;32m---> 10\u001b[0m         pulse\u001b[38;5;241m.\u001b[39mplay(drag_pulse(backend, \u001b[43mamp\u001b[49m\u001b[43m[\u001b[49m\u001b[43mi\u001b[49m\u001b[43m]\u001b[49m, angle[i]), DriveChannel(qubits[i]))\n\u001b[1;32m     11\u001b[0m     sched_list\u001b[38;5;241m.\u001b[39mappend(sched1)\n\u001b[1;32m     13\u001b[0m \u001b[38;5;66;03m# Layer 2: Applica una porta di controllo tra qubit 0 e 1\u001b[39;00m\n",
      "\u001b[0;31mIndexError\u001b[0m: list index out of range"
     ]
    }
   ],
   "source": [
    "from qiskit.algorithms.optimizers import SPSA, SLSQP, COBYLA\n",
    "\n",
    "n_qubit = 4\n",
    "parameters = 3\n",
    "params = np.zeros(parameters)\n",
    "\n",
    "LC = gen_LC_vqe(parameters)\n",
    "\n",
    "n_shot = 1024\n",
    "optimizer = 'COBYLA'\n",
    "\n",
    "vqe_res = minimize(vqe, params, args=(my_dict, pulse_backend, gate_backend, n_qubit, n_shot),\n",
    "                   method=optimizer, constraints=LC, options={'rhobeg': 0.2, 'maxiter': 70, 'disp': True})\n",
    "\n",
    "print(my_dict)\n",
    "\n",
    "print('The optimized loss func value: {}'.format(vqe_res.fun))"
   ]
  },
  {
   "cell_type": "code",
   "execution_count": null,
   "id": "666d8250-a99c-4245-8592-cd7e37625192",
   "metadata": {},
   "outputs": [],
   "source": []
  }
 ],
 "metadata": {
  "kernelspec": {
   "display_name": "Python 3 (ipykernel)",
   "language": "python",
   "name": "python3"
  },
  "language_info": {
   "codemirror_mode": {
    "name": "ipython",
    "version": 3
   },
   "file_extension": ".py",
   "mimetype": "text/x-python",
   "name": "python",
   "nbconvert_exporter": "python",
   "pygments_lexer": "ipython3",
   "version": "3.10.12"
  }
 },
 "nbformat": 4,
 "nbformat_minor": 5
}
