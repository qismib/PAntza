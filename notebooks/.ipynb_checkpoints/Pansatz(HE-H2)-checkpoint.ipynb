{
 "cells": [
  {
   "cell_type": "code",
   "execution_count": 1,
   "id": "dc949194-f2e5-4ba0-97ba-149e82ee0d87",
   "metadata": {
    "scrolled": true
   },
   "outputs": [
    {
     "name": "stderr",
     "output_type": "stream",
     "text": [
      "/home/riccardo/.venv/lib/python3.10/site-packages/qiskit_dynamics/dispatch/backends/jax.py:34: UserWarning: The functionality in the perturbation module of Qiskit Dynamics requires a JAX version <= 0.4.6, due to a bug in JAX versions > 0.4.6. For versions 0.4.4, 0.4.5, and 0.4.6, using the perturbation module functionality requires setting os.environ['JAX_JIT_PJIT_API_MERGE'] = '0' before importing JAX or Dynamics.\n",
      "  warnings.warn(\n"
     ]
    }
   ],
   "source": [
    "from qiskit_dynamics import Solver, DynamicsBackend\n",
    "from qiskit_dynamics.backend import default_experiment_result_function\n",
    "from qiskit_dynamics.array import Array\n",
    "import jax\n",
    "from qiskit.providers.fake_provider import *\n",
    "from qiskit import pulse"
   ]
  },
  {
   "cell_type": "code",
   "execution_count": 2,
   "id": "c8dae73e-ac43-4e9b-a87c-ef20142625a3",
   "metadata": {},
   "outputs": [
    {
     "name": "stderr",
     "output_type": "stream",
     "text": [
      "An NVIDIA GPU may be present on this machine, but a CUDA-enabled jaxlib is not installed. Falling back to cpu.\n"
     ]
    }
   ],
   "source": [
    "from qiskit_nature.units import DistanceUnit\n",
    "from qiskit_nature.second_q.drivers import PySCFDriver\n",
    "from qiskit_nature.second_q.mappers import JordanWignerMapper, ParityMapper\n",
    "import numpy as np\n",
    "from qiskit_nature.second_q.formats.molecule_info import MoleculeInfo\n",
    "from qiskit_nature.second_q.drivers import PySCFDriver\n",
    "\n",
    "gate_backend = FakeManila()\n",
    "gate_backend.configuration().hamiltonian['qub'] = {'0': 2,'1': 2,'2': 2,'3': 2,'4': 2}\n",
    "jax.config.update(\"jax_enable_x64\", True)\n",
    "jax.config.update(\"jax_platform_name\", \"cpu\")\n",
    "Array.set_default_backend(\"jax\")\n",
    "pulse_backend = DynamicsBackend.from_backend(gate_backend, evaluation_mode=\"sparse\")\n",
    "solver_options = {\"method\": \"jax_odeint\", \"atol\": 1e-6, \"rtol\": 1e-8}\n",
    "pulse_backend.set_options(solver_options=solver_options)\n",
    "pulse_backend.configuration = lambda: gate_backend.configuration()"
   ]
  },
  {
   "cell_type": "code",
   "execution_count": 3,
   "id": "e311a7a2-ad27-4bd9-bf15-ce14ebb44392",
   "metadata": {},
   "outputs": [
    {
     "name": "stderr",
     "output_type": "stream",
     "text": [
      "/home/riccardo/.venv/lib/python3.10/site-packages/pyscf/dft/libxc.py:771: UserWarning: Since PySCF-2.3, B3LYP (and B3P86) are changed to the VWN-RPA variant, corresponding to the original definition by Stephens et al. (issue 1480) and the same as the B3LYP functional in Gaussian. To restore the VWN5 definition, you can put the setting \"B3LYP_WITH_VWN5 = True\" in pyscf_conf.py\n",
      "  warnings.warn('Since PySCF-2.3, B3LYP (and B3P86) are changed to the VWN-RPA variant, '\n"
     ]
    }
   ],
   "source": [
    "simplified_h2_molecule = \"\"\"\n",
    "H 0.0 0.0 0.0\n",
    "H 0.0 0.0 0.735\n",
    "\"\"\"\n",
    "\n",
    "driver = PySCFDriver(\n",
    "    atom=simplified_h2_molecule.strip(),\n",
    "    basis='sto3g',\n",
    "    charge=0,\n",
    "    spin=0,\n",
    "    unit=DistanceUnit.ANGSTROM\n",
    ")\n",
    "\n",
    "qmolecule = driver.run()"
   ]
  },
  {
   "cell_type": "code",
   "execution_count": 4,
   "id": "86031310-8e3d-4599-b7d2-a250cb480acd",
   "metadata": {},
   "outputs": [],
   "source": [
    "from qiskit_nature import settings\n",
    "settings.use_pauli_sum_op = False"
   ]
  },
  {
   "cell_type": "code",
   "execution_count": 5,
   "id": "0561f57b-018a-44d2-b917-23532b494972",
   "metadata": {},
   "outputs": [
    {
     "name": "stdout",
     "output_type": "stream",
     "text": [
      "Fermionic Operator\n",
      "number spin orbitals=4, number terms=36\n",
      "  -1.25633907300325 * ( +_0 -_0 )\n",
      "+ -0.47189600728114184 * ( +_1 -_1 )\n",
      "+ -1.25633907300325 * ( +_2 -_2 )\n",
      "+ -0.47189600728114184 * ( +_3 -_3 )\n",
      "+ 0.33785507740175813 * ( +_0 +_0 -_0 -_0 )\n",
      "+ 0.3322908651276482 * ( +_0 +_1 -_1 -_0 )\n",
      "+ 0.33785507740175813 * ( +_0 +_2 -_2 -_0 )\n",
      "+ 0.3322908651276482 * ( +_0 +_3 -_3 -_0 )\n",
      "+ 0.09046559989211572 * ( +_0 +_0 -_1 -_1 )\n",
      "+ 0.09046559989211572 * ( +_0 +_1 -_0 -_1 )\n",
      "+ 0.09046559989211572 * ( +_0 +_2 -_3 -_1 )\n",
      "+ 0.09046559989211572 * ( +_0 +_3 -_2 -_1 )\n",
      "+ 0.09046559989211572 * ( +_1 +_0 -_1 -_0 )\n",
      "+ 0.09046559989211572 * ( +_1 +_1 -_0 -_0 )\n",
      "+ 0.09046559989211572 * ( +_1 +_2 -_3 -_0 )\n",
      "+ 0.09046559989211572 * ( +_1 +_3 -_2 -_0 )\n",
      "+ 0.3322908651276482 * ( +_1 +_0 -_0 -_1 )\n",
      "+ 0.34928686136600884 * ( +_1 +_1 -_1 -_1 )\n",
      "+ 0.3322908651276482 * ( +_1 +_2 -_2 -_1 )\n",
      "+ 0.34928686136600884 * ( +_1 +_3 -_3 -_1 )\n",
      "+ 0.33785507740175813 * ( +_2 +_0 -_0 -_2 )\n",
      "+ 0.3322908651276482 * ( +_2 +_1 -_1 -_2 )\n",
      "+ 0.33785507740175813 * ( +_2 +_2 -_2 -_2 )\n",
      "+ 0.3322908651276482 * ( +_2 +_3 -_3 -_2 )\n",
      "+ 0.09046559989211572 * ( +_2 +_0 -_1 -_3 )\n",
      "+ 0.09046559989211572 * ( +_2 +_1 -_0 -_3 )\n",
      "+ 0.09046559989211572 * ( +_2 +_2 -_3 -_3 )\n",
      "+ 0.09046559989211572 * ( +_2 +_3 -_2 -_3 )\n",
      "+ 0.09046559989211572 * ( +_3 +_0 -_1 -_2 )\n",
      "+ 0.09046559989211572 * ( +_3 +_1 -_0 -_2 )\n",
      "+ 0.09046559989211572 * ( +_3 +_2 -_3 -_2 )\n",
      "+ 0.09046559989211572 * ( +_3 +_3 -_2 -_2 )\n",
      "+ 0.3322908651276482 * ( +_3 +_0 -_0 -_3 )\n",
      "+ 0.34928686136600884 * ( +_3 +_1 -_1 -_3 )\n",
      "+ 0.3322908651276482 * ( +_3 +_2 -_2 -_3 )\n",
      "+ 0.34928686136600884 * ( +_3 +_3 -_3 -_3 )\n"
     ]
    }
   ],
   "source": [
    "hamiltonian = qmolecule.hamiltonian\n",
    "coefficients = hamiltonian.electronic_integrals\n",
    "second_q_op = hamiltonian.second_q_op()\n",
    "print(second_q_op)\n",
    "nuclear_cont = hamiltonian.nuclear_repulsion_energy"
   ]
  },
  {
   "cell_type": "code",
   "execution_count": 6,
   "id": "026dcd5c-4fd6-4c37-86f6-b30d4de31458",
   "metadata": {},
   "outputs": [
    {
     "name": "stdout",
     "output_type": "stream",
     "text": [
      "Polynomial Tensor\n",
      " \"+-\":\n",
      "array([[-1.25633907e+00, -1.37083854e-17],\n",
      "       [-6.07732712e-17, -4.71896007e-01]])\n",
      " \"++--\":\n",
      "array([6.75710155e-01, 1.38777878e-16, 1.80931200e-01, 6.64581730e-01,\n",
      "       5.55111512e-17, 6.98573723e-01])\n"
     ]
    }
   ],
   "source": [
    "print(coefficients.alpha)"
   ]
  },
  {
   "cell_type": "code",
   "execution_count": 7,
   "id": "e43bb255-e79b-4ffa-aeb0-2340e38ca54d",
   "metadata": {},
   "outputs": [
    {
     "name": "stdout",
     "output_type": "stream",
     "text": [
      "Polynomial Tensor\n",
      " \n"
     ]
    }
   ],
   "source": [
    "print(coefficients.beta)"
   ]
  },
  {
   "cell_type": "code",
   "execution_count": 8,
   "id": "1c21e3bb-15f5-4ae3-9b10-9ee7902e95ce",
   "metadata": {},
   "outputs": [
    {
     "name": "stdout",
     "output_type": "stream",
     "text": [
      "Polynomial Tensor\n",
      " \n"
     ]
    }
   ],
   "source": [
    "print(coefficients.beta_alpha)"
   ]
  },
  {
   "cell_type": "code",
   "execution_count": 9,
   "id": "f1cdc806-18d7-477f-9de8-ec849fdc485a",
   "metadata": {},
   "outputs": [
    {
     "name": "stdout",
     "output_type": "stream",
     "text": [
      "SparsePauliOp(['IIII', 'IIIZ', 'IIZI', 'IZII', 'ZIII', 'IIZZ', 'IZIZ', 'ZIIZ', 'YYYY', 'XXYY', 'YYXX', 'XXXX', 'IZZI', 'ZIZI', 'ZZII'],\n",
      "              coeffs=[-0.81054798+0.j,  0.17218393+0.j, -0.22575349+0.j,  0.17218393+0.j,\n",
      " -0.22575349+0.j,  0.12091263+0.j,  0.16892754+0.j,  0.16614543+0.j,\n",
      "  0.0452328 +0.j,  0.0452328 +0.j,  0.0452328 +0.j,  0.0452328 +0.j,\n",
      "  0.16614543+0.j,  0.17464343+0.j,  0.12091263+0.j])\n",
      "Rappresentazione della stringa: SparsePauliOp(['IIII'],\n",
      "              coeffs=[-0.81054798+0.j])\n",
      "Rappresentazione della stringa: SparsePauliOp(['IIIZ'],\n",
      "              coeffs=[0.17218393+0.j])\n",
      "Rappresentazione della stringa: SparsePauliOp(['IIZI'],\n",
      "              coeffs=[-0.22575349+0.j])\n",
      "Rappresentazione della stringa: SparsePauliOp(['IZII'],\n",
      "              coeffs=[0.17218393+0.j])\n",
      "Rappresentazione della stringa: SparsePauliOp(['ZIII'],\n",
      "              coeffs=[-0.22575349+0.j])\n",
      "Rappresentazione della stringa: SparsePauliOp(['IIZZ'],\n",
      "              coeffs=[0.12091263+0.j])\n",
      "Rappresentazione della stringa: SparsePauliOp(['IZIZ'],\n",
      "              coeffs=[0.16892754+0.j])\n",
      "Rappresentazione della stringa: SparsePauliOp(['ZIIZ'],\n",
      "              coeffs=[0.16614543+0.j])\n",
      "Rappresentazione della stringa: SparsePauliOp(['YYYY'],\n",
      "              coeffs=[0.0452328+0.j])\n",
      "Rappresentazione della stringa: SparsePauliOp(['XXYY'],\n",
      "              coeffs=[0.0452328+0.j])\n",
      "Rappresentazione della stringa: SparsePauliOp(['YYXX'],\n",
      "              coeffs=[0.0452328+0.j])\n",
      "Rappresentazione della stringa: SparsePauliOp(['XXXX'],\n",
      "              coeffs=[0.0452328+0.j])\n",
      "Rappresentazione della stringa: SparsePauliOp(['IZZI'],\n",
      "              coeffs=[0.16614543+0.j])\n",
      "Rappresentazione della stringa: SparsePauliOp(['ZIZI'],\n",
      "              coeffs=[0.17464343+0.j])\n",
      "Rappresentazione della stringa: SparsePauliOp(['ZZII'],\n",
      "              coeffs=[0.12091263+0.j])\n",
      "{\"IIII'],\\n              coeffs=[-0.81054798+0.j]\": (-0.81054798+0j), \"IIIZ'],\\n              coeffs=[0.17218393+0.j]\": (0.17218393+0j), \"IIZI'],\\n              coeffs=[-0.22575349+0.j]\": (-0.22575349+0j), \"IZII'],\\n              coeffs=[0.17218393+0.j]\": (0.17218393+0j), \"ZIII'],\\n              coeffs=[-0.22575349+0.j]\": (-0.22575349+0j), \"IIZZ'],\\n              coeffs=[0.12091263+0.j]\": (0.12091263+0j), \"IZIZ'],\\n              coeffs=[0.16892754+0.j]\": (0.16892754+0j), \"ZIIZ'],\\n              coeffs=[0.16614543+0.j]\": (0.16614543+0j), \"YYYY'],\\n              coeffs=[0.0452328+0.j]\": (0.0452328+0j), \"XXYY'],\\n              coeffs=[0.0452328+0.j]\": (0.0452328+0j), \"YYXX'],\\n              coeffs=[0.0452328+0.j]\": (0.0452328+0j), \"XXXX'],\\n              coeffs=[0.0452328+0.j]\": (0.0452328+0j), \"IZZI'],\\n              coeffs=[0.16614543+0.j]\": (0.16614543+0j), \"ZIZI'],\\n              coeffs=[0.17464343+0.j]\": (0.17464343+0j), \"ZZII'],\\n              coeffs=[0.12091263+0.j]\": (0.12091263+0j)}\n"
     ]
    }
   ],
   "source": [
    "import re\n",
    "\n",
    "mapper = JordanWignerMapper()\n",
    "qubit_op = mapper.map(second_q_op)\n",
    "print(qubit_op)\n",
    "\n",
    "my_dict = {}\n",
    "\n",
    "for pauli in qubit_op:\n",
    "    #print(pauli)\n",
    "    str_info = pauli.__str__()\n",
    "    print(f\"Rappresentazione della stringa: {str_info}\")\n",
    "\n",
    "    # Estrai i coefficienti\n",
    "    coeffs_start = str_info.find(\"coeffs=[\") + len(\"coeffs=[\")\n",
    "    coeffs_end = str_info.find(\"]\", coeffs_start)\n",
    "    coeffs_str = str_info[coeffs_start:coeffs_end].strip()\n",
    "    \n",
    "    # Estrai gli operatori come stringa\n",
    "    operators_start = str_info.find(\"Op(['\") + len(\"Op(['\")\n",
    "    operators_end = str_info.find(\"'])\", operators_start)\n",
    "    operators_str = str_info[operators_start:operators_end]\n",
    "\n",
    "    # Utilizza espressioni regolari per estrarre la parte reale e immaginaria dei coefficienti\n",
    "    coeffs_match = re.findall(r\"(-?\\d+\\.\\d+)([+-]\\d+\\.\\d+j)?\", coeffs_str)\n",
    "\n",
    "    # Inizializza i coefficienti come float\n",
    "    real_coeffs = [float(match[0]) for match in coeffs_match]\n",
    "    imag_coeffs = [float(match[1]) if match[1] else 0.0 for match in coeffs_match]\n",
    "\n",
    "    # Somma i coefficienti complessi\n",
    "    complex_coeff = sum(complex(real, imag) for real, imag in zip(real_coeffs, imag_coeffs))\n",
    "\n",
    "    # Aggiungi il coefficiente all'operatore nel dizionario\n",
    "    current_coeff = my_dict.get(operators_str, 0.0)\n",
    "    my_dict[operators_str] = current_coeff + complex_coeff\n",
    "    \n",
    "print(my_dict)\n"
   ]
  },
  {
   "cell_type": "code",
   "execution_count": 10,
   "id": "2a167416-d717-4512-9b89-16ada58c2e64",
   "metadata": {},
   "outputs": [],
   "source": [
    "from qiskit.pulse import Schedule, GaussianSquare, Drag, Delay, Play, ControlChannel, DriveChannel\n",
    "\n",
    "def drag_pulse(backend, amp, angle):\n",
    "    backend_defaults = backend.defaults()\n",
    "    inst_sched_map = backend_defaults.instruction_schedule_map\n",
    "    x_pulse = inst_sched_map.get('x', (0)).filter(channels=[DriveChannel(0)], instruction_types=[Play]).instructions[0][1].pulse\n",
    "    x_pulse = inst_sched_map.get('x', (0)).filter(channels=[DriveChannel(0)], instruction_types=[Play]).instructions[0][1].pulse\n",
    "    duration_parameter = x_pulse.parameters['duration']\n",
    "    sigma_parameter = x_pulse.parameters['sigma']\n",
    "    beta_parameter = x_pulse.parameters['beta']\n",
    "    pulse1 = Drag(duration=duration_parameter, sigma=sigma_parameter, beta=beta_parameter, amp=amp, angle=angle)\n",
    "    return pulse1"
   ]
  },
  {
   "cell_type": "code",
   "execution_count": 11,
   "id": "ae064d14-2c1c-4801-ba58-63df2f31b2cd",
   "metadata": {},
   "outputs": [],
   "source": [
    "def cr_pulse(backend, amp, angle, duration):\n",
    "    backend_defaults = backend.defaults()\n",
    "    inst_sched_map = backend_defaults.instruction_schedule_map\n",
    "    cr_pulse = inst_sched_map.get('cx', (0, 1)).filter(channels=[ControlChannel(0)], instruction_types=[Play]).instructions[0][1].pulse\n",
    "    cr_params = {\n",
    "        'duration': cr_pulse.parameters['duration'],\n",
    "        'amp': cr_pulse.parameters['amp'],\n",
    "        'angle': cr_pulse.parameters['angle'],\n",
    "        'sigma': cr_pulse.parameters['sigma'],\n",
    "        'width': cr_pulse.parameters['width']\n",
    "    }\n",
    "    cr_risefall = (cr_params['duration'] - cr_params['width']) / (2 * cr_params['sigma'])\n",
    "    angle_parameter = angle\n",
    "    duration_parameter = duration\n",
    "    sigma_parameter = cr_pulse.parameters['sigma']\n",
    "    width_parameter = int(duration_parameter - 2 * cr_risefall * cr_params['sigma'])\n",
    "    pulse1 = GaussianSquare(duration=duration_parameter, amp=amp, angle=angle_parameter, sigma=sigma_parameter, width=width_parameter)\n",
    "\n",
    "    return pulse1"
   ]
  },
  {
   "cell_type": "markdown",
   "id": "af3dfa82-d016-4aed-9bd9-0f045571c4eb",
   "metadata": {},
   "source": [
    "## Ansatz Hardware Efficient con Qiskit Pulse\n",
    "\n",
    "In questo codice, definiamo una funzione `HE_pulse` che implementa un Ansatz Hardware Efficient utilizzando Qiskit Pulse. L'ansatz è progettato per sfruttare in modo efficiente le risorse hardware disponibili su un processore quantistico.\n"
   ]
  },
  {
   "cell_type": "code",
   "execution_count": 12,
   "id": "b4004597-0c56-4f29-8949-dadd5b70b39b",
   "metadata": {},
   "outputs": [],
   "source": [
    "import qiskit.pulse as pulse\n",
    "def HE_pulse(backend, amp, angle, width):\n",
    "    # Crea un programma di impulsi vuoto\n",
    "    with pulse.build(backend) as my_program1:\n",
    "        sched_list = []\n",
    "        # Layer 1: Applica una porta X su ciascun qubit\n",
    "        with pulse.build(backend) as sched1:\n",
    "            qubits = (0, 1, 2, 3, 4)\n",
    "            for i in range(4):\n",
    "                pulse.play(drag_pulse(backend, amp[i], angle[i]), DriveChannel(qubits[i]))\n",
    "            sched_list.append(sched1)\n",
    "\n",
    "        # Layer 2: Applica una porta di controllo tra qubit 0 e 1\n",
    "        with pulse.build(backend) as sched2:\n",
    "            uchan = pulse.control_channels(0, 1)[0]\n",
    "            pulse.play(cr_pulse(backend, amp[4], angle[4], width[0]), uchan)\n",
    "            sched_list.append(sched2)\n",
    "\n",
    "        # Layer 3: Applica una porta di controllo tra qubit 1 e 2\n",
    "        with pulse.build(backend) as sched4:\n",
    "            uchan = pulse.control_channels(1, 2)[0]\n",
    "            pulse.play(cr_pulse(backend, amp[5], angle[5], width[1]), uchan)\n",
    "            sched_list.append(sched4)\n",
    "\n",
    "        # Layer 4: Applica una porta di controllo tra qubit 2 e 3\n",
    "        with pulse.build(backend) as sched6:\n",
    "            uchan = pulse.control_channels(2, 3)[0]\n",
    "            pulse.play(cr_pulse(backend, amp[6], angle[6], width[2]), uchan)\n",
    "            sched_list.append(sched6)\n",
    "\n",
    "        # Costruisci il programma principale allineando sequenzialmente gli schedule\n",
    "        with pulse.build(backend) as my_program:\n",
    "            with pulse.transpiler_settings(initial_layout=[0, 1, 2, 3]):\n",
    "                with pulse.align_sequential():\n",
    "                    for sched in sched_list:\n",
    "                        pulse.call(sched)\n",
    "    print(my_program)\n",
    "    return my_program"
   ]
  },
  {
   "cell_type": "code",
   "execution_count": 13,
   "id": "1705be72-aabf-40f4-86cc-e2115afc322f",
   "metadata": {},
   "outputs": [],
   "source": [
    "import copy\n",
    "from scipy.optimize import minimize, LinearConstraint\n",
    "\n",
    "def measurement_pauli(prepulse, pauli_string, backend, n_qubit):\n",
    "    with pulse.build(backend) as pulse_measure:\n",
    "        pulse.call(copy.deepcopy(prepulse))\n",
    "        for ind, pauli in enumerate(pauli_string):\n",
    "            if pauli == 'X':\n",
    "                pulse.u2(0, np.pi, ind)\n",
    "            elif pauli == 'Y':\n",
    "                pulse.u2(0, np.pi / 2, ind)\n",
    "        for qubit in range(n_qubit):\n",
    "            pulse.barrier(qubit)\n",
    "        pulse.measure(range(n_qubit))\n",
    "    return pulse_measure\n",
    "\n",
    "def n_one(bitstring, key):\n",
    "    results = 0\n",
    "    for ind, b in enumerate(reversed(bitstring)):\n",
    "        if b == '1' and key[ind] != 'I':\n",
    "            results += 1\n",
    "    return results\n",
    "\n",
    "def expectation_value(counts, shots, key):\n",
    "    results = 0\n",
    "    for bitstring in counts:\n",
    "        if n_one(bitstring, key) % 2 == 1:\n",
    "            results -= counts[bitstring] / shots\n",
    "        else:\n",
    "            results += counts[bitstring] / shots\n",
    "    return results\n",
    "\n",
    "def run_pulse_sim(meas_pulse, key, pulse_backend, backend, n_shot):\n",
    "    results = pulse_backend.run(meas_pulse).result()\n",
    "    counts = results.get_counts()\n",
    "    expectation = expectation_value(counts, n_shot, key)\n",
    "    return expectation\n",
    "\n",
    "def gen_LC_vqe(parameters):\n",
    "    lb = np.zeros(parameters)\n",
    "    ub = np.ones(parameters)\n",
    "    LC = LinearConstraint(np.eye(parameters), lb, ub, keep_feasible=False)\n",
    "    return LC"
   ]
  },
  {
   "cell_type": "code",
   "execution_count": 14,
   "id": "218c249c-96e7-4854-aaa2-1e2107322689",
   "metadata": {},
   "outputs": [],
   "source": [
    "def vqe_one(prepulse, n_qubit, n_shot, pulse_backend, backend, key, value):\n",
    "    all_Is = all(key_ele == 'I' for key_ele in key)\n",
    "    if all_Is:\n",
    "        return value\n",
    "\n",
    "    meas_pulse = measurement_pauli(prepulse=prepulse, pauli_string=key, backend=backend, n_qubit=n_qubit)\n",
    "\n",
    "    return value * run_pulse_sim(meas_pulse, key, pulse_backend, backend, n_shot)"
   ]
  },
  {
   "cell_type": "code",
   "execution_count": 15,
   "id": "a5054bd9-7e37-497e-a167-ca9547580a1e",
   "metadata": {},
   "outputs": [],
   "source": [
    "def vqe(params, pauli_dict, pulse_backend, backend, n_qubit, n_shot):\n",
    "    print(\"params in def chemistry in vqe.py: \", params)\n",
    "\n",
    "    width_len = int(len(params) - 1 * (n_qubit - 1))\n",
    "\n",
    "    split_ind = int(width_len / 2)\n",
    "\n",
    "    # Estrai le ampiezze, gli angoli e le larghezze dalla lista dei parametri\n",
    "    amp = np.array(params[:split_ind])\n",
    "    angle = np.array(params[split_ind:width_len]) * np.pi * 2\n",
    "    width_1 = np.array(params[width_len:])\n",
    "\n",
    "    # Calcola il numero di intervalli di larghezza normalizzati\n",
    "    num_items = (1024 - 256) // 16 + 1\n",
    "\n",
    "    # Normalizza le larghezze tra 256 e 1024\n",
    "    width_norm = (width_1 - 256) / (1024 - 256)\n",
    "    width_norm = np.clip(width_norm, 0, 1)\n",
    "\n",
    "    # Calcola le larghezze in base alla normalizzazione\n",
    "    width = (np.round(width_norm * (num_items - 1)) * 16 + 256).astype(int)\n",
    "\n",
    "    amp = amp.tolist()\n",
    "    angle = angle.tolist()\n",
    "    width = width.tolist()\n",
    "\n",
    "    keys = [key for key in pauli_dict]\n",
    "    values = [pauli_dict[key] for key in pauli_dict]\n",
    "\n",
    "    expect_values = []\n",
    "    for key, value in zip(keys, values):\n",
    "        # Genera l'impulso di preparazione\n",
    "        prepulse = HE_pulse(backend, amp, angle, width)\n",
    "\n",
    "        expect = vqe_one(prepulse, n_qubit, n_shot, pulse_backend, backend, key, value)\n",
    "        expect_values.append(expect)\n",
    "\n",
    "    print(\"E for cur_iter: \", sum(expect_values))\n",
    "\n",
    "    return sum(expect_values)"
   ]
  },
  {
   "cell_type": "code",
   "execution_count": 16,
   "id": "1893398f-fcc2-473f-b1dc-68f3d64b3692",
   "metadata": {},
   "outputs": [
    {
     "name": "stderr",
     "output_type": "stream",
     "text": [
      "/tmp/ipykernel_787/1718184504.py:1: DeprecationWarning: ``qiskit.algorithms`` has been migrated to an independent package: https://github.com/qiskit-community/qiskit-algorithms. The ``qiskit.algorithms`` import path is deprecated as of qiskit-terra 0.25.0 and will be removed no earlier than 3 months after the release date. Please run ``pip install qiskit_algorithms`` and use ``import qiskit_algorithms`` instead.\n",
      "  from qiskit.algorithms.optimizers import SPSA, SLSQP, COBYLA\n"
     ]
    },
    {
     "name": "stdout",
     "output_type": "stream",
     "text": [
      "params in def chemistry in vqe.py:  [0. 0. 0. 0. 0. 0. 0. 0. 0. 0. 0. 0. 0. 0. 0. 0. 0.]\n",
      "ScheduleBlock(ScheduleBlock(ScheduleBlock(Play(Drag(duration=160, sigma=40, beta=-0.589247519648376, amp=0.0, angle=0.0), DriveChannel(0)), Play(Drag(duration=160, sigma=40, beta=-0.589247519648376, amp=0.0, angle=0.0), DriveChannel(1)), Play(Drag(duration=160, sigma=40, beta=-0.589247519648376, amp=0.0, angle=0.0), DriveChannel(2)), Play(Drag(duration=160, sigma=40, beta=-0.589247519648376, amp=0.0, angle=0.0), DriveChannel(3)), name=\"block6\", transform=AlignLeft()), ScheduleBlock(Play(GaussianSquare(duration=256, sigma=64, width=0, amp=0.0, angle=0.0), ControlChannel(0)), name=\"block7\", transform=AlignLeft()), ScheduleBlock(Play(GaussianSquare(duration=256, sigma=64, width=0, amp=0.0, angle=0.0), ControlChannel(2)), name=\"block8\", transform=AlignLeft()), ScheduleBlock(Play(GaussianSquare(duration=256, sigma=64, width=0, amp=0.0, angle=0.0), ControlChannel(4)), name=\"block9\", transform=AlignLeft()), name=\"block11\", transform=AlignSequential()), name=\"block10\", transform=AlignLeft())\n",
      "ScheduleBlock(ScheduleBlock(ScheduleBlock(Play(Drag(duration=160, sigma=40, beta=-0.589247519648376, amp=0.0, angle=0.0), DriveChannel(0)), Play(Drag(duration=160, sigma=40, beta=-0.589247519648376, amp=0.0, angle=0.0), DriveChannel(1)), Play(Drag(duration=160, sigma=40, beta=-0.589247519648376, amp=0.0, angle=0.0), DriveChannel(2)), Play(Drag(duration=160, sigma=40, beta=-0.589247519648376, amp=0.0, angle=0.0), DriveChannel(3)), name=\"block14\", transform=AlignLeft()), ScheduleBlock(Play(GaussianSquare(duration=256, sigma=64, width=0, amp=0.0, angle=0.0), ControlChannel(0)), name=\"block15\", transform=AlignLeft()), ScheduleBlock(Play(GaussianSquare(duration=256, sigma=64, width=0, amp=0.0, angle=0.0), ControlChannel(2)), name=\"block16\", transform=AlignLeft()), ScheduleBlock(Play(GaussianSquare(duration=256, sigma=64, width=0, amp=0.0, angle=0.0), ControlChannel(4)), name=\"block17\", transform=AlignLeft()), name=\"block19\", transform=AlignSequential()), name=\"block18\", transform=AlignLeft())\n",
      "ScheduleBlock(ScheduleBlock(ScheduleBlock(Play(Drag(duration=160, sigma=40, beta=-0.589247519648376, amp=0.0, angle=0.0), DriveChannel(0)), Play(Drag(duration=160, sigma=40, beta=-0.589247519648376, amp=0.0, angle=0.0), DriveChannel(1)), Play(Drag(duration=160, sigma=40, beta=-0.589247519648376, amp=0.0, angle=0.0), DriveChannel(2)), Play(Drag(duration=160, sigma=40, beta=-0.589247519648376, amp=0.0, angle=0.0), DriveChannel(3)), name=\"block22\", transform=AlignLeft()), ScheduleBlock(Play(GaussianSquare(duration=256, sigma=64, width=0, amp=0.0, angle=0.0), ControlChannel(0)), name=\"block23\", transform=AlignLeft()), ScheduleBlock(Play(GaussianSquare(duration=256, sigma=64, width=0, amp=0.0, angle=0.0), ControlChannel(2)), name=\"block24\", transform=AlignLeft()), ScheduleBlock(Play(GaussianSquare(duration=256, sigma=64, width=0, amp=0.0, angle=0.0), ControlChannel(4)), name=\"block25\", transform=AlignLeft()), name=\"block27\", transform=AlignSequential()), name=\"block26\", transform=AlignLeft())\n",
      "ScheduleBlock(ScheduleBlock(ScheduleBlock(Play(Drag(duration=160, sigma=40, beta=-0.589247519648376, amp=0.0, angle=0.0), DriveChannel(0)), Play(Drag(duration=160, sigma=40, beta=-0.589247519648376, amp=0.0, angle=0.0), DriveChannel(1)), Play(Drag(duration=160, sigma=40, beta=-0.589247519648376, amp=0.0, angle=0.0), DriveChannel(2)), Play(Drag(duration=160, sigma=40, beta=-0.589247519648376, amp=0.0, angle=0.0), DriveChannel(3)), name=\"block30\", transform=AlignLeft()), ScheduleBlock(Play(GaussianSquare(duration=256, sigma=64, width=0, amp=0.0, angle=0.0), ControlChannel(0)), name=\"block31\", transform=AlignLeft()), ScheduleBlock(Play(GaussianSquare(duration=256, sigma=64, width=0, amp=0.0, angle=0.0), ControlChannel(2)), name=\"block32\", transform=AlignLeft()), ScheduleBlock(Play(GaussianSquare(duration=256, sigma=64, width=0, amp=0.0, angle=0.0), ControlChannel(4)), name=\"block33\", transform=AlignLeft()), name=\"block35\", transform=AlignSequential()), name=\"block34\", transform=AlignLeft())\n",
      "ScheduleBlock(ScheduleBlock(ScheduleBlock(Play(Drag(duration=160, sigma=40, beta=-0.589247519648376, amp=0.0, angle=0.0), DriveChannel(0)), Play(Drag(duration=160, sigma=40, beta=-0.589247519648376, amp=0.0, angle=0.0), DriveChannel(1)), Play(Drag(duration=160, sigma=40, beta=-0.589247519648376, amp=0.0, angle=0.0), DriveChannel(2)), Play(Drag(duration=160, sigma=40, beta=-0.589247519648376, amp=0.0, angle=0.0), DriveChannel(3)), name=\"block38\", transform=AlignLeft()), ScheduleBlock(Play(GaussianSquare(duration=256, sigma=64, width=0, amp=0.0, angle=0.0), ControlChannel(0)), name=\"block39\", transform=AlignLeft()), ScheduleBlock(Play(GaussianSquare(duration=256, sigma=64, width=0, amp=0.0, angle=0.0), ControlChannel(2)), name=\"block40\", transform=AlignLeft()), ScheduleBlock(Play(GaussianSquare(duration=256, sigma=64, width=0, amp=0.0, angle=0.0), ControlChannel(4)), name=\"block41\", transform=AlignLeft()), name=\"block43\", transform=AlignSequential()), name=\"block42\", transform=AlignLeft())\n",
      "ScheduleBlock(ScheduleBlock(ScheduleBlock(Play(Drag(duration=160, sigma=40, beta=-0.589247519648376, amp=0.0, angle=0.0), DriveChannel(0)), Play(Drag(duration=160, sigma=40, beta=-0.589247519648376, amp=0.0, angle=0.0), DriveChannel(1)), Play(Drag(duration=160, sigma=40, beta=-0.589247519648376, amp=0.0, angle=0.0), DriveChannel(2)), Play(Drag(duration=160, sigma=40, beta=-0.589247519648376, amp=0.0, angle=0.0), DriveChannel(3)), name=\"block46\", transform=AlignLeft()), ScheduleBlock(Play(GaussianSquare(duration=256, sigma=64, width=0, amp=0.0, angle=0.0), ControlChannel(0)), name=\"block47\", transform=AlignLeft()), ScheduleBlock(Play(GaussianSquare(duration=256, sigma=64, width=0, amp=0.0, angle=0.0), ControlChannel(2)), name=\"block48\", transform=AlignLeft()), ScheduleBlock(Play(GaussianSquare(duration=256, sigma=64, width=0, amp=0.0, angle=0.0), ControlChannel(4)), name=\"block49\", transform=AlignLeft()), name=\"block51\", transform=AlignSequential()), name=\"block50\", transform=AlignLeft())\n",
      "ScheduleBlock(ScheduleBlock(ScheduleBlock(Play(Drag(duration=160, sigma=40, beta=-0.589247519648376, amp=0.0, angle=0.0), DriveChannel(0)), Play(Drag(duration=160, sigma=40, beta=-0.589247519648376, amp=0.0, angle=0.0), DriveChannel(1)), Play(Drag(duration=160, sigma=40, beta=-0.589247519648376, amp=0.0, angle=0.0), DriveChannel(2)), Play(Drag(duration=160, sigma=40, beta=-0.589247519648376, amp=0.0, angle=0.0), DriveChannel(3)), name=\"block54\", transform=AlignLeft()), ScheduleBlock(Play(GaussianSquare(duration=256, sigma=64, width=0, amp=0.0, angle=0.0), ControlChannel(0)), name=\"block55\", transform=AlignLeft()), ScheduleBlock(Play(GaussianSquare(duration=256, sigma=64, width=0, amp=0.0, angle=0.0), ControlChannel(2)), name=\"block56\", transform=AlignLeft()), ScheduleBlock(Play(GaussianSquare(duration=256, sigma=64, width=0, amp=0.0, angle=0.0), ControlChannel(4)), name=\"block57\", transform=AlignLeft()), name=\"block59\", transform=AlignSequential()), name=\"block58\", transform=AlignLeft())\n",
      "ScheduleBlock(ScheduleBlock(ScheduleBlock(Play(Drag(duration=160, sigma=40, beta=-0.589247519648376, amp=0.0, angle=0.0), DriveChannel(0)), Play(Drag(duration=160, sigma=40, beta=-0.589247519648376, amp=0.0, angle=0.0), DriveChannel(1)), Play(Drag(duration=160, sigma=40, beta=-0.589247519648376, amp=0.0, angle=0.0), DriveChannel(2)), Play(Drag(duration=160, sigma=40, beta=-0.589247519648376, amp=0.0, angle=0.0), DriveChannel(3)), name=\"block62\", transform=AlignLeft()), ScheduleBlock(Play(GaussianSquare(duration=256, sigma=64, width=0, amp=0.0, angle=0.0), ControlChannel(0)), name=\"block63\", transform=AlignLeft()), ScheduleBlock(Play(GaussianSquare(duration=256, sigma=64, width=0, amp=0.0, angle=0.0), ControlChannel(2)), name=\"block64\", transform=AlignLeft()), ScheduleBlock(Play(GaussianSquare(duration=256, sigma=64, width=0, amp=0.0, angle=0.0), ControlChannel(4)), name=\"block65\", transform=AlignLeft()), name=\"block67\", transform=AlignSequential()), name=\"block66\", transform=AlignLeft())\n",
      "ScheduleBlock(ScheduleBlock(ScheduleBlock(Play(Drag(duration=160, sigma=40, beta=-0.589247519648376, amp=0.0, angle=0.0), DriveChannel(0)), Play(Drag(duration=160, sigma=40, beta=-0.589247519648376, amp=0.0, angle=0.0), DriveChannel(1)), Play(Drag(duration=160, sigma=40, beta=-0.589247519648376, amp=0.0, angle=0.0), DriveChannel(2)), Play(Drag(duration=160, sigma=40, beta=-0.589247519648376, amp=0.0, angle=0.0), DriveChannel(3)), name=\"block70\", transform=AlignLeft()), ScheduleBlock(Play(GaussianSquare(duration=256, sigma=64, width=0, amp=0.0, angle=0.0), ControlChannel(0)), name=\"block71\", transform=AlignLeft()), ScheduleBlock(Play(GaussianSquare(duration=256, sigma=64, width=0, amp=0.0, angle=0.0), ControlChannel(2)), name=\"block72\", transform=AlignLeft()), ScheduleBlock(Play(GaussianSquare(duration=256, sigma=64, width=0, amp=0.0, angle=0.0), ControlChannel(4)), name=\"block73\", transform=AlignLeft()), name=\"block75\", transform=AlignSequential()), name=\"block74\", transform=AlignLeft())\n",
      "ScheduleBlock(ScheduleBlock(ScheduleBlock(Play(Drag(duration=160, sigma=40, beta=-0.589247519648376, amp=0.0, angle=0.0), DriveChannel(0)), Play(Drag(duration=160, sigma=40, beta=-0.589247519648376, amp=0.0, angle=0.0), DriveChannel(1)), Play(Drag(duration=160, sigma=40, beta=-0.589247519648376, amp=0.0, angle=0.0), DriveChannel(2)), Play(Drag(duration=160, sigma=40, beta=-0.589247519648376, amp=0.0, angle=0.0), DriveChannel(3)), name=\"block78\", transform=AlignLeft()), ScheduleBlock(Play(GaussianSquare(duration=256, sigma=64, width=0, amp=0.0, angle=0.0), ControlChannel(0)), name=\"block79\", transform=AlignLeft()), ScheduleBlock(Play(GaussianSquare(duration=256, sigma=64, width=0, amp=0.0, angle=0.0), ControlChannel(2)), name=\"block80\", transform=AlignLeft()), ScheduleBlock(Play(GaussianSquare(duration=256, sigma=64, width=0, amp=0.0, angle=0.0), ControlChannel(4)), name=\"block81\", transform=AlignLeft()), name=\"block83\", transform=AlignSequential()), name=\"block82\", transform=AlignLeft())\n",
      "ScheduleBlock(ScheduleBlock(ScheduleBlock(Play(Drag(duration=160, sigma=40, beta=-0.589247519648376, amp=0.0, angle=0.0), DriveChannel(0)), Play(Drag(duration=160, sigma=40, beta=-0.589247519648376, amp=0.0, angle=0.0), DriveChannel(1)), Play(Drag(duration=160, sigma=40, beta=-0.589247519648376, amp=0.0, angle=0.0), DriveChannel(2)), Play(Drag(duration=160, sigma=40, beta=-0.589247519648376, amp=0.0, angle=0.0), DriveChannel(3)), name=\"block86\", transform=AlignLeft()), ScheduleBlock(Play(GaussianSquare(duration=256, sigma=64, width=0, amp=0.0, angle=0.0), ControlChannel(0)), name=\"block87\", transform=AlignLeft()), ScheduleBlock(Play(GaussianSquare(duration=256, sigma=64, width=0, amp=0.0, angle=0.0), ControlChannel(2)), name=\"block88\", transform=AlignLeft()), ScheduleBlock(Play(GaussianSquare(duration=256, sigma=64, width=0, amp=0.0, angle=0.0), ControlChannel(4)), name=\"block89\", transform=AlignLeft()), name=\"block91\", transform=AlignSequential()), name=\"block90\", transform=AlignLeft())\n",
      "ScheduleBlock(ScheduleBlock(ScheduleBlock(Play(Drag(duration=160, sigma=40, beta=-0.589247519648376, amp=0.0, angle=0.0), DriveChannel(0)), Play(Drag(duration=160, sigma=40, beta=-0.589247519648376, amp=0.0, angle=0.0), DriveChannel(1)), Play(Drag(duration=160, sigma=40, beta=-0.589247519648376, amp=0.0, angle=0.0), DriveChannel(2)), Play(Drag(duration=160, sigma=40, beta=-0.589247519648376, amp=0.0, angle=0.0), DriveChannel(3)), name=\"block94\", transform=AlignLeft()), ScheduleBlock(Play(GaussianSquare(duration=256, sigma=64, width=0, amp=0.0, angle=0.0), ControlChannel(0)), name=\"block95\", transform=AlignLeft()), ScheduleBlock(Play(GaussianSquare(duration=256, sigma=64, width=0, amp=0.0, angle=0.0), ControlChannel(2)), name=\"block96\", transform=AlignLeft()), ScheduleBlock(Play(GaussianSquare(duration=256, sigma=64, width=0, amp=0.0, angle=0.0), ControlChannel(4)), name=\"block97\", transform=AlignLeft()), name=\"block99\", transform=AlignSequential()), name=\"block98\", transform=AlignLeft())\n",
      "ScheduleBlock(ScheduleBlock(ScheduleBlock(Play(Drag(duration=160, sigma=40, beta=-0.589247519648376, amp=0.0, angle=0.0), DriveChannel(0)), Play(Drag(duration=160, sigma=40, beta=-0.589247519648376, amp=0.0, angle=0.0), DriveChannel(1)), Play(Drag(duration=160, sigma=40, beta=-0.589247519648376, amp=0.0, angle=0.0), DriveChannel(2)), Play(Drag(duration=160, sigma=40, beta=-0.589247519648376, amp=0.0, angle=0.0), DriveChannel(3)), name=\"block102\", transform=AlignLeft()), ScheduleBlock(Play(GaussianSquare(duration=256, sigma=64, width=0, amp=0.0, angle=0.0), ControlChannel(0)), name=\"block103\", transform=AlignLeft()), ScheduleBlock(Play(GaussianSquare(duration=256, sigma=64, width=0, amp=0.0, angle=0.0), ControlChannel(2)), name=\"block104\", transform=AlignLeft()), ScheduleBlock(Play(GaussianSquare(duration=256, sigma=64, width=0, amp=0.0, angle=0.0), ControlChannel(4)), name=\"block105\", transform=AlignLeft()), name=\"block107\", transform=AlignSequential()), name=\"block106\", transform=AlignLeft())\n",
      "ScheduleBlock(ScheduleBlock(ScheduleBlock(Play(Drag(duration=160, sigma=40, beta=-0.589247519648376, amp=0.0, angle=0.0), DriveChannel(0)), Play(Drag(duration=160, sigma=40, beta=-0.589247519648376, amp=0.0, angle=0.0), DriveChannel(1)), Play(Drag(duration=160, sigma=40, beta=-0.589247519648376, amp=0.0, angle=0.0), DriveChannel(2)), Play(Drag(duration=160, sigma=40, beta=-0.589247519648376, amp=0.0, angle=0.0), DriveChannel(3)), name=\"block110\", transform=AlignLeft()), ScheduleBlock(Play(GaussianSquare(duration=256, sigma=64, width=0, amp=0.0, angle=0.0), ControlChannel(0)), name=\"block111\", transform=AlignLeft()), ScheduleBlock(Play(GaussianSquare(duration=256, sigma=64, width=0, amp=0.0, angle=0.0), ControlChannel(2)), name=\"block112\", transform=AlignLeft()), ScheduleBlock(Play(GaussianSquare(duration=256, sigma=64, width=0, amp=0.0, angle=0.0), ControlChannel(4)), name=\"block113\", transform=AlignLeft()), name=\"block115\", transform=AlignSequential()), name=\"block114\", transform=AlignLeft())\n",
      "ScheduleBlock(ScheduleBlock(ScheduleBlock(Play(Drag(duration=160, sigma=40, beta=-0.589247519648376, amp=0.0, angle=0.0), DriveChannel(0)), Play(Drag(duration=160, sigma=40, beta=-0.589247519648376, amp=0.0, angle=0.0), DriveChannel(1)), Play(Drag(duration=160, sigma=40, beta=-0.589247519648376, amp=0.0, angle=0.0), DriveChannel(2)), Play(Drag(duration=160, sigma=40, beta=-0.589247519648376, amp=0.0, angle=0.0), DriveChannel(3)), name=\"block118\", transform=AlignLeft()), ScheduleBlock(Play(GaussianSquare(duration=256, sigma=64, width=0, amp=0.0, angle=0.0), ControlChannel(0)), name=\"block119\", transform=AlignLeft()), ScheduleBlock(Play(GaussianSquare(duration=256, sigma=64, width=0, amp=0.0, angle=0.0), ControlChannel(2)), name=\"block120\", transform=AlignLeft()), ScheduleBlock(Play(GaussianSquare(duration=256, sigma=64, width=0, amp=0.0, angle=0.0), ControlChannel(4)), name=\"block121\", transform=AlignLeft()), name=\"block123\", transform=AlignSequential()), name=\"block122\", transform=AlignLeft())\n",
      "E for cur_iter:  (0.18093119000000008+0j)\n",
      "{\"IIII'],\\n              coeffs=[-0.81054798+0.j]\": (-0.81054798+0j), \"IIIZ'],\\n              coeffs=[0.17218393+0.j]\": (0.17218393+0j), \"IIZI'],\\n              coeffs=[-0.22575349+0.j]\": (-0.22575349+0j), \"IZII'],\\n              coeffs=[0.17218393+0.j]\": (0.17218393+0j), \"ZIII'],\\n              coeffs=[-0.22575349+0.j]\": (-0.22575349+0j), \"IIZZ'],\\n              coeffs=[0.12091263+0.j]\": (0.12091263+0j), \"IZIZ'],\\n              coeffs=[0.16892754+0.j]\": (0.16892754+0j), \"ZIIZ'],\\n              coeffs=[0.16614543+0.j]\": (0.16614543+0j), \"YYYY'],\\n              coeffs=[0.0452328+0.j]\": (0.0452328+0j), \"XXYY'],\\n              coeffs=[0.0452328+0.j]\": (0.0452328+0j), \"YYXX'],\\n              coeffs=[0.0452328+0.j]\": (0.0452328+0j), \"XXXX'],\\n              coeffs=[0.0452328+0.j]\": (0.0452328+0j), \"IZZI'],\\n              coeffs=[0.16614543+0.j]\": (0.16614543+0j), \"ZIZI'],\\n              coeffs=[0.17464343+0.j]\": (0.17464343+0j), \"ZZII'],\\n              coeffs=[0.12091263+0.j]\": (0.12091263+0j)}\n",
      "The optimized loss func value: 0.18093119000000008\n",
      "\n",
      "   Return from subroutine COBYLA because the MAXFUN limit has been reached.\n",
      "\n",
      "   NFVALS =    1   F = 1.809312E-01    MAXCV = 0.000000E+00\n",
      "   X = 0.000000E+00   0.000000E+00   0.000000E+00   0.000000E+00   0.000000E+00\n",
      "       0.000000E+00   0.000000E+00   0.000000E+00   0.000000E+00   0.000000E+00\n",
      "       0.000000E+00   0.000000E+00   0.000000E+00   0.000000E+00   0.000000E+00\n",
      "       0.000000E+00   0.000000E+00\n"
     ]
    }
   ],
   "source": [
    "from qiskit.algorithms.optimizers import SPSA, SLSQP, COBYLA\n",
    "\n",
    "iterazioni = []\n",
    "energy = []\n",
    "\n",
    "n_qubit = 4\n",
    "parameters = 17\n",
    "params = np.zeros(parameters)\n",
    "\n",
    "LC = gen_LC_vqe(parameters)\n",
    "\n",
    "n_shot = 1024\n",
    "\n",
    "optimizer = 'COBYLA'\n",
    "\n",
    "vqe_res = minimize(vqe, params, args=(my_dict, pulse_backend, gate_backend, n_qubit, n_shot),\n",
    "                   method=optimizer, constraints=LC, options={'rhobeg': 0.2, 'maxiter': 1, 'disp': True})\n",
    "\n",
    "iterazioni.append(1)\n",
    "energy.append(vqe_res.fun)\n",
    "print(my_dict)\n",
    "print('The optimized loss func value: {}'.format(vqe_res.fun))"
   ]
  },
  {
   "cell_type": "code",
   "execution_count": null,
   "id": "b5dc377d-a014-4e9c-87d4-5a0787062683",
   "metadata": {},
   "outputs": [],
   "source": [
    "from qiskit.algorithms.optimizers import SPSA, SLSQP, COBYLA\n",
    "\n",
    "iterazioni = []\n",
    "energy = []\n",
    "\n",
    "n_qubit = 4\n",
    "parameters = 17\n",
    "params = np.zeros(parameters)\n",
    "\n",
    "LC = gen_LC_vqe(parameters)\n",
    "\n",
    "n_shot = 1024\n",
    "\n",
    "optimizer = 'COBYLA'\n",
    "\n",
    "vqe_res = minimize(vqe, params, args=(my_dict, pulse_backend, gate_backend, n_qubit, n_shot),\n",
    "                   method=optimizer, constraints=LC, options={'rhobeg': 0.2, 'maxiter': 5, 'disp': True})\n",
    "\n",
    "iterazioni.append(5)\n",
    "energy.append(vqe_res.fun)\n",
    "print(my_dict)\n",
    "print('The optimized loss func value: {}'.format(vqe_res.fun))"
   ]
  },
  {
   "cell_type": "code",
   "execution_count": null,
   "id": "ac46ad73-b8e9-4e5d-b2c7-03c684ef863f",
   "metadata": {},
   "outputs": [],
   "source": [
    "n_qubit = 4\n",
    "parameters = 17\n",
    "params = np.zeros(parameters)\n",
    "\n",
    "LC = gen_LC_vqe(parameters)\n",
    "\n",
    "n_shot = 1024\n",
    "\n",
    "optimizer = 'COBYLA'\n",
    "\n",
    "vqe_res = minimize(vqe, params, args=(my_dict, pulse_backend, gate_backend, n_qubit, n_shot),\n",
    "                   method=optimizer, constraints=LC, options={'rhobeg': 0.2, 'maxiter': 10, 'disp': True})\n",
    "\n",
    "iterazioni.append(10)\n",
    "energy.append(vqe_res.fun)\n",
    "print(my_dict)\n",
    "print('The optimized loss func value: {}'.format(vqe_res.fun))"
   ]
  },
  {
   "cell_type": "code",
   "execution_count": null,
   "id": "8ff87a63-8104-4280-bb5a-ef5ada4a3f31",
   "metadata": {},
   "outputs": [],
   "source": [
    "n_qubit = 4\n",
    "parameters = 17\n",
    "params = np.zeros(parameters)\n",
    "\n",
    "LC = gen_LC_vqe(parameters)\n",
    "\n",
    "n_shot = 1024\n",
    "\n",
    "optimizer = 'COBYLA'\n",
    "\n",
    "vqe_res = minimize(vqe, params, args=(my_dict, pulse_backend, gate_backend, n_qubit, n_shot),\n",
    "                   method=optimizer, constraints=LC, options={'rhobeg': 0.2, 'maxiter': 15, 'disp': True})\n",
    "\n",
    "iterazioni.append(15)\n",
    "energy.append(vqe_res.fun)\n",
    "print(my_dict)\n",
    "print('The optimized loss func value: {}'.format(vqe_res.fun))"
   ]
  },
  {
   "cell_type": "code",
   "execution_count": null,
   "id": "a58851ef-c380-4af9-bbe4-615fef5bec65",
   "metadata": {},
   "outputs": [],
   "source": [
    "n_qubit = 4\n",
    "parameters = 17\n",
    "params = np.zeros(parameters)\n",
    "\n",
    "LC = gen_LC_vqe(parameters)\n",
    "\n",
    "n_shot = 1024\n",
    "\n",
    "optimizer = 'COBYLA'\n",
    "\n",
    "vqe_res = minimize(vqe, params, args=(my_dict, pulse_backend, gate_backend, n_qubit, n_shot),\n",
    "                   method=optimizer, constraints=LC, options={'rhobeg': 0.2, 'maxiter': 20, 'disp': True})\n",
    "\n",
    "iterazioni.append(20)\n",
    "energy.append(vqe_res.fun)\n",
    "print(my_dict)\n",
    "print('The optimized loss func value: {}'.format(vqe_res.fun))"
   ]
  },
  {
   "cell_type": "code",
   "execution_count": null,
   "id": "507cfee6-4442-4098-acb0-6f8f91e0bffd",
   "metadata": {},
   "outputs": [],
   "source": [
    "import matplotlib.pyplot as plt\n",
    "plt.plot(iterazioni, energy, label=\"PulseVQE\")\n",
    "plt.xlabel(\"Iterazioni\")\n",
    "plt.ylabel(\"Energy\")\n",
    "plt.legend()\n",
    "plt.savefig('H2-pVQE.png')\n",
    "plt.show()"
   ]
  },
  {
   "cell_type": "code",
   "execution_count": null,
   "id": "86e881a3-8855-4d08-bfdf-3bf6e2b2e6ff",
   "metadata": {},
   "outputs": [],
   "source": []
  }
 ],
 "metadata": {
  "kernelspec": {
   "display_name": "Python 3 (ipykernel)",
   "language": "python",
   "name": "python3"
  },
  "language_info": {
   "codemirror_mode": {
    "name": "ipython",
    "version": 3
   },
   "file_extension": ".py",
   "mimetype": "text/x-python",
   "name": "python",
   "nbconvert_exporter": "python",
   "pygments_lexer": "ipython3",
   "version": "3.10.12"
  }
 },
 "nbformat": 4,
 "nbformat_minor": 5
}
