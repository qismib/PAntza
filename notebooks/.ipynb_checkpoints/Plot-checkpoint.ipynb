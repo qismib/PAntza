{
 "cells": [
  {
   "cell_type": "code",
   "execution_count": null,
   "id": "7b98b24c-c221-4a14-a3c0-d2823bc39fbe",
   "metadata": {},
   "outputs": [],
   "source": [
    "import matplotlib.pyplot as plt\n",
    "import numpy as np\n",
    "\n",
    "# Leggi i dati dal file\n",
    "file_path = 'HE-LiH-4qubit.txt'\n",
    "data = np.loadtxt(file_path)\n",
    "\n",
    "# Estrai colonne\n",
    "x_values = data[:, 0]\n",
    "func1_values = data[:, 1]\n",
    "func2_values = data[:, 2]\n",
    "errors = data[:, 3]\n",
    "\n",
    "# Crea il plot\n",
    "plt.figure(figsize=(10, 6))\n",
    "plt.plot(x_values, func2_values, label='VQE', marker='o', linestyle='-', color='blue')\n",
    "plt.plot(x_values, func1_values, label='exact', marker='s', linestyle='-', color='green')\n",
    "\n",
    "# Aggiungi etichette e legenda\n",
    "plt.xlabel('Distance')\n",
    "plt.ylabel('Energy')\n",
    "plt.title('LiH-HE (4 qubit-FakeManila())')\n",
    "plt.legend()\n",
    "\n",
    "# Mostra il plot\n",
    "#plt.grid(True)\n",
    "output_path = 'EnergyVSdistLiH(4qubit-FakeManila).png'\n",
    "plt.savefig(output_path)\n",
    "plt.show()"
   ]
  },
  {
   "cell_type": "code",
   "execution_count": null,
   "id": "87d82baa-1a59-4231-9b4e-fda44f7ec6e7",
   "metadata": {},
   "outputs": [],
   "source": []
  }
 ],
 "metadata": {
  "kernelspec": {
   "display_name": "Python 3 (ipykernel)",
   "language": "python",
   "name": "python3"
  },
  "language_info": {
   "codemirror_mode": {
    "name": "ipython",
    "version": 3
   },
   "file_extension": ".py",
   "mimetype": "text/x-python",
   "name": "python",
   "nbconvert_exporter": "python",
   "pygments_lexer": "ipython3",
   "version": "3.10.12"
  }
 },
 "nbformat": 4,
 "nbformat_minor": 5
}
