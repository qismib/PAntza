{
 "cells": [
  {
   "cell_type": "code",
   "execution_count": null,
   "id": "6e9ac26d-a1b7-48ef-aff8-20ce1574ab95",
   "metadata": {},
   "outputs": [],
   "source": [
    "import matplotlib.pyplot as plt\n",
    "\n",
    "# Funzione per leggere i dati dal file\n",
    "def leggi_dati(file_name):\n",
    "    iterazioni = []\n",
    "    energia = []\n",
    "    with open(file_name, 'r') as file:\n",
    "        for line in file:\n",
    "            if line.strip():  \n",
    "                data = line.split()\n",
    "                iterazioni.append(int(data[0]))\n",
    "                energia.append(float(data[1]))\n",
    "    return iterazioni, energia\n",
    "\n",
    "# Nome del file contenente i dati\n",
    "file_name = 'EnergyVSinter.txt'\n",
    "\n",
    "# Leggi i dati dal file\n",
    "iterazioni, energia = leggi_dati(file_name)\n",
    "\n",
    "# Plot\n",
    "plt.figure(figsize=(10, 6))\n",
    "plt.plot(iterazioni, energia, marker='o', linestyle='-')\n",
    "plt.title('Energia VS Iterazioni')\n",
    "plt.xlabel('Iterazioni')\n",
    "plt.ylabel('Energia')\n",
    "plt.grid(True)\n",
    "plt.show()\n"
   ]
  },
  {
   "cell_type": "code",
   "execution_count": null,
   "id": "e7438df3-92ca-4458-b38f-4554086f7af5",
   "metadata": {},
   "outputs": [],
   "source": []
  }
 ],
 "metadata": {
  "kernelspec": {
   "display_name": "Python 3 (ipykernel)",
   "language": "python",
   "name": "python3"
  },
  "language_info": {
   "codemirror_mode": {
    "name": "ipython",
    "version": 3
   },
   "file_extension": ".py",
   "mimetype": "text/x-python",
   "name": "python",
   "nbconvert_exporter": "python",
   "pygments_lexer": "ipython3",
   "version": "3.10.12"
  }
 },
 "nbformat": 4,
 "nbformat_minor": 5
}
