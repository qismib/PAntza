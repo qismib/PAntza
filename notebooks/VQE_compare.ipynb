{
 "cells": [
  {
   "cell_type": "code",
   "execution_count": 1,
   "id": "b2ca7654-4d87-4a83-ad2c-44e86ab1aec4",
   "metadata": {},
   "outputs": [],
   "source": [
    "from qiskit import IBMQ"
   ]
  },
  {
   "cell_type": "code",
   "execution_count": 2,
   "id": "d2f927c8-fc02-4fc4-b2a6-1a5cf36cfdb4",
   "metadata": {},
   "outputs": [
    {
     "name": "stderr",
     "output_type": "stream",
     "text": [
      "/tmp/ipykernel_105797/2032875596.py:1: DeprecationWarning: The package qiskit.providers.ibmq is being deprecated. Please see https://ibm.biz/provider_migration_guide to get instructions on how to migrate to qiskit-ibm-provider (https://github.com/Qiskit/qiskit-ibm-provider) and qiskit-ibm-runtime (https://github.com/Qiskit/qiskit-ibm-runtime).\n",
      "  IBMQ.save_account('cf8f375261c4dccb5d21ed0a6faf0737c07de4dc8d9c99fcc41c122eb47bd554120b1834c246a505644ab913f0aee2df3efa33eff7d9517cd4d77aa4b4fb8430')\n",
      "/tmp/ipykernel_105797/2032875596.py:1: DeprecationWarning: The qiskit.IBMQ entrypoint and the qiskit-ibmq-provider package (accessible from 'qiskit.providers.ibmq`) are deprecated and will be removed in a future release. Instead you should use the qiskit-ibm-provider package which is accessible from 'qiskit_ibm_provider'. You can install it with 'pip install qiskit_ibm_provider'. Just replace 'qiskit.IBMQ' with 'qiskit_ibm_provider.IBMProvider'\n",
      "  IBMQ.save_account('cf8f375261c4dccb5d21ed0a6faf0737c07de4dc8d9c99fcc41c122eb47bd554120b1834c246a505644ab913f0aee2df3efa33eff7d9517cd4d77aa4b4fb8430')\n",
      "configrc.store_credentials:WARNING:2023-12-10 15:29:34,628: Credentials already present. Set overwrite=True to overwrite.\n"
     ]
    },
    {
     "name": "stdout",
     "output_type": "stream",
     "text": [
      "Backends disponibili:\n",
      "ibmq_qasm_simulator\n",
      "simulator_statevector\n",
      "simulator_mps\n",
      "simulator_extended_stabilizer\n",
      "simulator_stabilizer\n",
      "ibm_brisbane\n",
      "ibm_kyoto\n",
      "ibm_osaka\n"
     ]
    }
   ],
   "source": [
    "IBMQ.save_account('cf8f375261c4dccb5d21ed0a6faf0737c07de4dc8d9c99fcc41c122eb47bd554120b1834c246a505644ab913f0aee2df3efa33eff7d9517cd4d77aa4b4fb8430')\n",
    "IBMQ.load_account()\n",
    "\n",
    "provider = IBMQ.get_provider(hub='ibm-q')\n",
    "available_backends = provider.backends()\n",
    "print(\"Backends disponibili:\")\n",
    "for backend in available_backends:\n",
    "    print(backend.name())"
   ]
  },
  {
   "cell_type": "code",
   "execution_count": 3,
   "id": "b4409d9d-5d6c-4f70-b2db-ddb5fa257c7e",
   "metadata": {},
   "outputs": [],
   "source": [
    "backend = provider.get_backend('ibm_kyoto')"
   ]
  },
  {
   "cell_type": "code",
   "execution_count": 4,
   "id": "92506027-ee3f-4f6c-9dd6-107c1d2fc9a1",
   "metadata": {},
   "outputs": [],
   "source": [
    "import numpy as np\n",
    "\n",
    "np.random.seed(999999)\n",
    "p0 = np.random.random()\n",
    "target_distr = {0: p0, 1: 1 - p0}"
   ]
  },
  {
   "cell_type": "code",
   "execution_count": 5,
   "id": "62472183-8f10-46d5-bb36-4bcebc008da4",
   "metadata": {},
   "outputs": [],
   "source": [
    "from qiskit import QuantumCircuit, ClassicalRegister, QuantumRegister\n",
    "from qiskit.circuit import Parameter\n",
    "\n",
    "params = [Parameter(\"theta\"), Parameter(\"phi\"), Parameter(\"lam\")]\n",
    "\n",
    "\n",
    "def get_var_form(params):\n",
    "    qr = QuantumRegister(1, name=\"q\")\n",
    "    cr = ClassicalRegister(1, name=\"c\")\n",
    "    qc = QuantumCircuit(qr, cr)\n",
    "    qc.u(params[0], params[1], params[2], qr[0])\n",
    "    qc.measure(qr, cr[0])\n",
    "    return qc\n",
    "\n",
    "\n",
    "qc = get_var_form(params)"
   ]
  },
  {
   "cell_type": "code",
   "execution_count": 6,
   "id": "01341805-f9b2-48a0-94e6-f15310b770d3",
   "metadata": {},
   "outputs": [],
   "source": [
    "from qiskit_aer.primitives import Sampler, Estimator\n",
    "\n",
    "sampler = Sampler()\n",
    "\n",
    "\n",
    "def objective_function(params):\n",
    "    \"\"\"Compares the output distribution of our circuit with\n",
    "    parameters `params` to the target distribution.\"\"\"\n",
    "    # Simulate the circuit instance with paramters\n",
    "    result = sampler.run(circuits=qc, parameter_values=params).result()\n",
    "    # Get the quasi distribution for each measured state\n",
    "    output_distr = result.quasi_dists[0]\n",
    "    # Calculate the cost as the distance between the output\n",
    "    # distribution and the target distribution\n",
    "    cost = sum(\n",
    "        abs(target_distr.get(i, 0) - output_distr.get(i, 0))\n",
    "        for i in range(2**qc.num_qubits)\n",
    "    )\n",
    "    return cost"
   ]
  },
  {
   "cell_type": "code",
   "execution_count": 7,
   "id": "10df7bb0-0c1c-4454-8556-3d6e1a88d5ab",
   "metadata": {},
   "outputs": [
    {
     "name": "stderr",
     "output_type": "stream",
     "text": [
      "/tmp/ipykernel_105797/603783229.py:1: DeprecationWarning: ``qiskit.algorithms`` has been migrated to an independent package: https://github.com/qiskit-community/qiskit-algorithms. The ``qiskit.algorithms`` import path is deprecated as of qiskit-terra 0.25.0 and will be removed no earlier than 3 months after the release date. Please run ``pip install qiskit_algorithms`` and use ``import qiskit_algorithms`` instead.\n",
      "  from qiskit.algorithms.optimizers import SPSA, SLSQP, COBYLA\n"
     ]
    },
    {
     "name": "stdout",
     "output_type": "stream",
     "text": [
      "Parameters Found: [-0.1030519   1.10133724  1.94944654]\n",
      "Target Distribution: {0: 0.308979188922057, 1: 0.691020811077943}\n",
      "Obtained Distribution: {0: 0.330078125, 1: 0.669921875}\n",
      "Cost: 0.038291622155885996\n"
     ]
    }
   ],
   "source": [
    "from qiskit.algorithms.optimizers import SPSA, SLSQP, COBYLA\n",
    "\n",
    "optimizer = COBYLA(maxiter=500, tol=0.0001)\n",
    "# Create the initial parameters (noting that our\n",
    "# single qubit variational form has 3 parameters)\n",
    "initial_point = np.random.rand(3)\n",
    "\n",
    "result = optimizer.minimize(fun=objective_function, x0=initial_point)\n",
    "\n",
    "# Obtain the output distribution using the final parameters\n",
    "output_distr = (\n",
    "    sampler.run(circuits=qc, parameter_values=result.x)\n",
    "    .result()\n",
    "    .quasi_dists[0]\n",
    ")\n",
    "\n",
    "print(\"Parameters Found:\", result.x)\n",
    "print(\"Target Distribution:\", target_distr)\n",
    "print(\"Obtained Distribution:\", output_distr)\n",
    "print(\"Cost:\", objective_function(result.x))"
   ]
  },
  {
   "cell_type": "code",
   "execution_count": 8,
   "id": "2413ad27-31e1-42b9-a8fe-304a369335e9",
   "metadata": {},
   "outputs": [
    {
     "name": "stdout",
     "output_type": "stream",
     "text": [
      "linear entanglement:\n"
     ]
    },
    {
     "name": "stderr",
     "output_type": "stream",
     "text": [
      "/home/riccardo/.venv/lib/python3.10/site-packages/qiskit/visualization/circuit/matplotlib.py:266: FutureWarning: The default matplotlib drawer scheme will be changed to \"iqp\" in a following release. To silence this warning, specify the current default explicitly as style=\"clifford\", or the new default as style=\"iqp\".\n",
      "  self._style, def_font_ratio = load_style(self._style)\n"
     ]
    },
    {
     "data": {
      "image/png": "[encoded data removed]",
      "text/plain": [
       "<Figure size 1039.79x200.667 with 1 Axes>"
      ]
     },
     "metadata": {},
     "output_type": "display_data"
    },
    {
     "name": "stdout",
     "output_type": "stream",
     "text": [
      "full entanglement:\n"
     ]
    },
    {
     "name": "stderr",
     "output_type": "stream",
     "text": [
      "/home/riccardo/.venv/lib/python3.10/site-packages/qiskit/visualization/circuit/matplotlib.py:266: FutureWarning: The default matplotlib drawer scheme will be changed to \"iqp\" in a following release. To silence this warning, specify the current default explicitly as style=\"clifford\", or the new default as style=\"iqp\".\n",
      "  self._style, def_font_ratio = load_style(self._style)\n"
     ]
    },
    {
     "data": {
      "image/png": "[encoded data removed]",
      "text/plain": [
       "<Figure size 1039.79x200.667 with 1 Axes>"
      ]
     },
     "metadata": {},
     "output_type": "display_data"
    }
   ],
   "source": [
    "from qiskit.circuit.library import EfficientSU2\n",
    "\n",
    "entanglements = [\"linear\", \"full\"]\n",
    "for entanglement in entanglements:\n",
    "    form = EfficientSU2(num_qubits=2, entanglement=entanglement)\n",
    "    print(f\"{entanglement} entanglement:\")\n",
    "    # We initialize all parameters to 0 for this demonstration\n",
    "    display(form.decompose().draw(\"mpl\", fold=-1))"
   ]
  },
  {
   "cell_type": "code",
   "execution_count": 9,
   "id": "5969df03-cdc2-464d-836c-27785e62aaa9",
   "metadata": {},
   "outputs": [],
   "source": [
    "import qiskit_nature\n",
    "from qiskit.algorithms.minimum_eigensolvers import NumPyMinimumEigensolver, VQE\n",
    "from qiskit_nature.second_q.transformers import FreezeCoreTransformer\n",
    "from qiskit_nature.second_q.formats.molecule_info import MoleculeInfo\n",
    "from qiskit_nature.second_q.mappers import ParityMapper\n",
    "from qiskit_nature.second_q.circuit.library import UCCSD, HartreeFock\n",
    "\n",
    "qiskit_nature.settings.use_pauli_sum_op = False  # pylint: disable=undefined-variable\n",
    "# pylint: enable=line-too-long\n",
    "from qiskit_nature.second_q.drivers import PySCFDriver\n",
    "import matplotlib.pyplot as plt\n",
    "from qiskit.circuit.library import EfficientSU2"
   ]
  },
  {
   "cell_type": "code",
   "execution_count": 10,
   "id": "a15f0148-b6b6-48bb-a806-466e139ce204",
   "metadata": {},
   "outputs": [],
   "source": [
    "intermediate_info = []\n",
    "def callback(value):\n",
    "        intermediate_info.append(value)"
   ]
  },
  {
   "cell_type": "code",
   "execution_count": 11,
   "id": "ce425f4e-fbea-4ffa-9c4f-6a9c05ab13cd",
   "metadata": {},
   "outputs": [],
   "source": [
    "from qiskit.algorithms import MinimumEigensolver, VQEResult\n",
    "\n",
    "# Define a custome VQE class to orchestra the ansatz, classical optimizers, \n",
    "# initial point, callback, and final result\n",
    "class CustomVQE(MinimumEigensolver):\n",
    "    \n",
    "    def __init__(self, estimator, circuit, optimizer, callback=None):\n",
    "        self._estimator = estimator\n",
    "        self._circuit = circuit\n",
    "        self._optimizer = optimizer\n",
    "        self._callback = callback\n",
    "        \n",
    "    def compute_minimum_eigenvalue(self, operators, aux_operators=None):\n",
    "                \n",
    "        # Define objective function to classically minimize over\n",
    "        def objective(x):\n",
    "            # Execute job with estimator primitive\n",
    "            job = self._estimator.run([self._circuit], [operators], [x])\n",
    "            # Get results from jobs\n",
    "            est_result = job.result()\n",
    "            # Get the measured energy value\n",
    "            value = est_result.values[0]\n",
    "            # Save result information using callback function\n",
    "            if self._callback is not None:\n",
    "                self._callback(value)\n",
    "            return value\n",
    "            \n",
    "        # Select an initial point for the ansatzs' parameters\n",
    "        x0 = np.pi/4 * np.random.rand(self._circuit.num_parameters)\n",
    "        \n",
    "        # Run optimization\n",
    "        res = self._optimizer.minimize(objective, x0=x0)\n",
    "        \n",
    "        # Populate VQE result\n",
    "        result = VQEResult()\n",
    "        result.cost_function_evals = res.nfev\n",
    "        result.eigenvalue = res.fun\n",
    "        result.optimal_parameters = res.x\n",
    "        return result"
   ]
  },
  {
   "cell_type": "code",
   "execution_count": 12,
   "id": "a36deb16-617d-461b-996c-a43d9f69f924",
   "metadata": {},
   "outputs": [],
   "source": [
    "from qiskit_aer.noise import NoiseModel\n",
    "from qiskit.providers.fake_provider import FakeVigo\n",
    "\n",
    "# fake providers contain data from real IBM Quantum devices stored\n",
    "# in Qiskit Terra, and are useful for extracting realistic noise models.\n",
    "\n",
    "device = FakeVigo()\n",
    "coupling_map = device.configuration().coupling_map\n",
    "noise_model = NoiseModel.from_backend(device)\n",
    "noisy_estimator = Estimator(\n",
    "    backend_options={\"coupling_map\": coupling_map, \"noise_model\": noise_model}\n",
    ")"
   ]
  },
  {
   "cell_type": "code",
   "execution_count": null,
   "id": "52dbdef8-690f-4342-9bf2-e87339ed8c14",
   "metadata": {},
   "outputs": [
    {
     "name": "stderr",
     "output_type": "stream",
     "text": [
      "/home/riccardo/.venv/lib/python3.10/site-packages/pyscf/dft/libxc.py:771: UserWarning: Since PySCF-2.3, B3LYP (and B3P86) are changed to the VWN-RPA variant, corresponding to the original definition by Stephens et al. (issue 1480) and the same as the B3LYP functional in Gaussian. To restore the VWN5 definition, you can put the setting \"B3LYP_WITH_VWN5 = True\" in pyscf_conf.py\n",
      "  warnings.warn('Since PySCF-2.3, B3LYP (and B3P86) are changed to the VWN-RPA variant, '\n"
     ]
    },
    {
     "name": "stdout",
     "output_type": "stream",
     "text": [
      "Interatomic Distance: 0.1 VQE Result: 4.55025 Exact Energy: 2.70996\n",
      "Interatomic Distance: 0.11 VQE Result: 4.75829 Exact Energy: 2.23606\n",
      "Interatomic Distance: 0.12 VQE Result: 2.30140 Exact Energy: 1.84290\n",
      "Interatomic Distance: 0.13 VQE Result: 4.07732 Exact Energy: 1.51195\n",
      "Interatomic Distance: 0.14 VQE Result: 3.14583 Exact Energy: 1.22996\n",
      "Interatomic Distance: 0.15 VQE Result: 2.85368 Exact Energy: 0.98722\n",
      "Interatomic Distance: 0.16 VQE Result: 3.00096 Exact Energy: 0.77642\n",
      "Interatomic Distance: 0.17 VQE Result: 2.24328 Exact Energy: 0.59196\n",
      "Interatomic Distance: 0.18 VQE Result: 1.45615 Exact Energy: 0.42950\n",
      "Interatomic Distance: 0.19 VQE Result: 0.85050 Exact Energy: 0.28560\n",
      "Interatomic Distance: 0.2 VQE Result: 2.06121 Exact Energy: 0.15748\n",
      "Interatomic Distance: 0.21 VQE Result: 2.03668 Exact Energy: 0.04291\n",
      "Interatomic Distance: 0.22 VQE Result: 2.09913 Exact Energy: -0.05994\n",
      "Interatomic Distance: 0.23 VQE Result: 1.47945 Exact Energy: -0.15261\n",
      "Interatomic Distance: 0.24 VQE Result: 1.62048 Exact Energy: -0.23636\n",
      "Interatomic Distance: 0.25 VQE Result: 1.36918 Exact Energy: -0.31227\n",
      "Interatomic Distance: 0.26 VQE Result: 1.09695 Exact Energy: -0.38124\n",
      "Interatomic Distance: 0.27 VQE Result: 0.81543 Exact Energy: -0.44406\n",
      "Interatomic Distance: 0.28 VQE Result: 1.53476 Exact Energy: -0.50139\n",
      "Interatomic Distance: 0.29 VQE Result: 0.73342 Exact Energy: -0.55380\n",
      "Interatomic Distance: 0.3 VQE Result: -0.12590 Exact Energy: -0.60180\n",
      "Interatomic Distance: 0.31 VQE Result: 1.40005 Exact Energy: -0.64584\n",
      "Interatomic Distance: 0.32 VQE Result: 0.39740 Exact Energy: -0.68628\n",
      "Interatomic Distance: 0.33 VQE Result: 1.66137 Exact Energy: -0.72347\n",
      "Interatomic Distance: 0.34 VQE Result: 0.60175 Exact Energy: -0.75771\n",
      "Interatomic Distance: 0.35 VQE Result: 0.25919 Exact Energy: -0.78927\n",
      "Interatomic Distance: 0.36 VQE Result: 0.50565 Exact Energy: -0.81837\n",
      "Interatomic Distance: 0.37 VQE Result: 1.17401 Exact Energy: -0.84523\n",
      "Interatomic Distance: 0.38 VQE Result: -0.11096 Exact Energy: -0.87004\n",
      "Interatomic Distance: 0.39 VQE Result: 0.14654 Exact Energy: -0.89296\n",
      "Interatomic Distance: 0.4 VQE Result: 0.43634 Exact Energy: -0.91415\n",
      "Interatomic Distance: 0.41 VQE Result: 0.36586 Exact Energy: -0.93374\n",
      "Interatomic Distance: 0.42 VQE Result: -0.36768 Exact Energy: -0.95185\n",
      "Interatomic Distance: 0.43 VQE Result: 0.16145 Exact Energy: -0.96861\n",
      "Interatomic Distance: 0.44 VQE Result: -0.23306 Exact Energy: -0.98410\n",
      "Interatomic Distance: 0.45 VQE Result: 0.11623 Exact Energy: -0.99842\n",
      "Interatomic Distance: 0.46 VQE Result: 0.68492 Exact Energy: -1.01165\n",
      "Interatomic Distance: 0.47 VQE Result: 0.68060 Exact Energy: -1.02387\n",
      "Interatomic Distance: 0.48 VQE Result: -0.09124 Exact Energy: -1.03516\n",
      "Interatomic Distance: 0.49 VQE Result: 0.03338 Exact Energy: -1.04557\n",
      "Interatomic Distance: 0.5 VQE Result: -0.62232 Exact Energy: -1.05516\n",
      "Interatomic Distance: 0.51 VQE Result: -0.52291 Exact Energy: -1.06399\n",
      "Interatomic Distance: 0.52 VQE Result: -0.07183 Exact Energy: -1.07211\n",
      "Interatomic Distance: 0.53 VQE Result: -0.38444 Exact Energy: -1.07956\n",
      "Interatomic Distance: 0.54 VQE Result: 0.22917 Exact Energy: -1.08639\n",
      "Interatomic Distance: 0.55 VQE Result: -0.17533 Exact Energy: -1.09263\n",
      "Interatomic Distance: 0.56 VQE Result: -0.24778 Exact Energy: -1.09833\n",
      "Interatomic Distance: 0.57 VQE Result: 0.08013 Exact Energy: -1.10351\n",
      "Interatomic Distance: 0.58 VQE Result: -0.22563 Exact Energy: -1.10821\n",
      "Interatomic Distance: 0.59 VQE Result: -0.54559 Exact Energy: -1.11246\n",
      "Interatomic Distance: 0.6 VQE Result: 0.06701 Exact Energy: -1.11629\n",
      "Interatomic Distance: 0.61 VQE Result: -0.35359 Exact Energy: -1.11971\n",
      "Interatomic Distance: 0.62 VQE Result: -0.06303 Exact Energy: -1.12277\n",
      "Interatomic Distance: 0.63 VQE Result: 0.01351 Exact Energy: -1.12547\n",
      "Interatomic Distance: 0.64 VQE Result: -0.16816 Exact Energy: -1.12784\n",
      "Interatomic Distance: 0.65 VQE Result: -0.23233 Exact Energy: -1.12990\n",
      "Interatomic Distance: 0.66 VQE Result: -0.16911 Exact Energy: -1.13168\n",
      "Interatomic Distance: 0.67 VQE Result: -0.25983 Exact Energy: -1.13317\n",
      "Interatomic Distance: 0.68 VQE Result: -0.59737 Exact Energy: -1.13442\n",
      "Interatomic Distance: 0.69 VQE Result: -0.18408 Exact Energy: -1.13542\n",
      "Interatomic Distance: 0.7 VQE Result: -0.23072 Exact Energy: -1.13619\n",
      "Interatomic Distance: 0.71 VQE Result: -0.57823 Exact Energy: -1.13675\n",
      "Interatomic Distance: 0.72 VQE Result: -0.06420 Exact Energy: -1.13711\n"
     ]
    }
   ],
   "source": [
    "def get_qubit_op(dist):\n",
    "    # Define Molecule\n",
    "    molecule = MoleculeInfo(\n",
    "        # Coordinates in Angstrom\n",
    "        symbols=[\"H\", \"H\"],\n",
    "        coords=([0.0, 0.0, 0.0], [0.0, 0.0, dist]),\n",
    "        multiplicity=1,  # = 2*spin + 1\n",
    "        charge=0,\n",
    "    )\n",
    "\n",
    "    driver = PySCFDriver.from_molecule(molecule)\n",
    "\n",
    "    # Get properties\n",
    "    properties = driver.run()\n",
    "\n",
    "    # Now you can get the reduced electronic structure problem\n",
    "    problem = FreezeCoreTransformer(\n",
    "        freeze_core=True, remove_orbitals=[-3, -2]\n",
    "    ).transform(properties)\n",
    "\n",
    "    num_particles = problem.num_particles\n",
    "    num_spatial_orbitals = problem.num_spatial_orbitals\n",
    "\n",
    "    mapper = ParityMapper(num_particles=num_particles)\n",
    "    qubit_op = mapper.map(problem.second_q_ops()[0])\n",
    "    return qubit_op, num_particles, num_spatial_orbitals, problem, mapper\n",
    "\n",
    "from qiskit_aer.primitives import Estimator\n",
    "\n",
    "\n",
    "def exact_solver(qubit_op, problem):\n",
    "    sol = NumPyMinimumEigensolver().compute_minimum_eigenvalue(qubit_op)\n",
    "    result = problem.interpret(sol)\n",
    "    return result\n",
    "\n",
    "\n",
    "distances = np.arange(0.1, 2.0, 0.01)\n",
    "exact_energies = []\n",
    "vqe_energies = []\n",
    "optimizer = SLSQP(maxiter=10)\n",
    "noiseless_estimator = Estimator(approximation=True)\n",
    "\n",
    "# pylint: disable=undefined-loop-variable,line-too-long\n",
    "for dist in distances:\n",
    "    (qubit_op, num_particles, num_spatial_orbitals, problem, mapper) = get_qubit_op(\n",
    "        dist\n",
    "    )\n",
    "\n",
    "    result = exact_solver(qubit_op, problem)\n",
    "    exact_energies.append(result.total_energies[0].real)\n",
    "    \n",
    "    init_state = HartreeFock(num_spatial_orbitals, num_particles, mapper)\n",
    "    var_form = UCCSD(\n",
    "        num_spatial_orbitals, num_particles, mapper, initial_state=init_state\n",
    "    )\n",
    "    \n",
    "    vqe = VQE(\n",
    "        noisy_estimator,\n",
    "        var_form,\n",
    "        optimizer,\n",
    "        initial_point=[0] * var_form.num_parameters,\n",
    "    )\n",
    "    vqe_calc = vqe.compute_minimum_eigenvalue(qubit_op)\n",
    "    vqe_result = problem.interpret(vqe_calc).total_energies[0].real\n",
    "    vqe_energies.append(vqe_result)\n",
    "    print(\n",
    "        f\"Interatomic Distance: {np.round(dist, 2)}\",\n",
    "        f\"VQE Result: {vqe_result:.5f}\",\n",
    "        f\"Exact Energy: {exact_energies[-1]:.5f}\",\n",
    "    )\n",
    "\n",
    "print(\"All energies have been calculated\")"
   ]
  },
  {
   "cell_type": "code",
   "execution_count": null,
   "id": "b1010abe-dc29-4e77-89e3-015902615ab7",
   "metadata": {},
   "outputs": [],
   "source": [
    "from time import time\n",
    "# Setup VQE algorithm\n",
    "custom_vqe = CustomVQE(noisy_estimator, form, optimizer, callback=callback)\n",
    "\n",
    "# Run the custom VQE function and monitor execution time\n",
    "start = time()\n",
    "resultIBM = custom_vqe.compute_minimum_eigenvalue(qubit_op)\n",
    "end = time()\n",
    "\n",
    "print(resultIBM)"
   ]
  },
  {
   "cell_type": "code",
   "execution_count": null,
   "id": "7e96f53e-c7ce-430f-9bfa-590967211abb",
   "metadata": {},
   "outputs": [],
   "source": [
    "plt.plot(distances, exact_energies, label=\"Exact Energy\")\n",
    "plt.plot(distances, vqe_energies, label=\"VQE Energy\")\n",
    "plt.xlabel(\"Atomic distance (Angstrom)\")\n",
    "plt.ylabel(\"Energy\")\n",
    "plt.legend()\n",
    "plt.show()"
   ]
  },
  {
   "cell_type": "code",
   "execution_count": null,
   "id": "b527de77-1b04-4c54-b4f7-8283767413fe",
   "metadata": {},
   "outputs": [],
   "source": [
    "plt.plot(intermediate_info, color='purple', lw=2, label='IBM VQE')\n",
    "plt.xlabel(\"Iterazioni\")\n",
    "plt.ylabel(\"Energy\")\n",
    "plt.legend()\n",
    "plt.show()"
   ]
  }
 ],
 "metadata": {
  "kernelspec": {
   "display_name": "Python 3 (ipykernel)",
   "language": "python",
   "name": "python3"
  },
  "language_info": {
   "codemirror_mode": {
    "name": "ipython",
    "version": 3
   },
   "file_extension": ".py",
   "mimetype": "text/x-python",
   "name": "python",
   "nbconvert_exporter": "python",
   "pygments_lexer": "ipython3",
   "version": "3.10.12"
  }
 },
 "nbformat": 4,
 "nbformat_minor": 5
}
